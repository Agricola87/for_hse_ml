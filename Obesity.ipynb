{
  "nbformat": 4,
  "nbformat_minor": 0,
  "metadata": {
    "kernelspec": {
      "display_name": "Python 3",
      "language": "python",
      "name": "python3"
    },
    "language_info": {
      "codemirror_mode": {
        "name": "ipython",
        "version": 3
      },
      "file_extension": ".py",
      "mimetype": "text/x-python",
      "name": "python",
      "nbconvert_exporter": "python",
      "pygments_lexer": "ipython3",
      "version": "3.7.6"
    },
    "colab": {
      "name": "Ожирение.ipynb\"\"\"",
      "provenance": [],
      "collapsed_sections": [
        "zcpSo4CC5OhU",
        "dWo_LNIQ5Oh2",
        "9E-KDhSG5OiG",
        "6wiIs0rr5OiU",
        "DX3qYuea5OiZ",
        "VZUadaDd5Oix",
        "Bf24JkKK5On8",
        "8I7ZuyS_5OpW",
        "v_5Suwgu5Opc",
        "pf6Aq2SQ5Opp",
        "a3LDYnUz5OqA",
        "tbZXGCUw5OqO",
        "RIW7WjX55OqY",
        "zKYhsMi-5Oqs",
        "j__7yflV5OrC"
      ]
    }
  },
  "cells": [
    {
      "cell_type": "code",
      "metadata": {
        "id": "OKxXo7ry5Oep",
        "colab_type": "code",
        "colab": {}
      },
      "source": [
        "import numpy as np              # Массивы (матрицы, векторы, линейная алгебра)\n",
        "import matplotlib.pyplot as plt # Научная графика\n",
        "%matplotlib inline \n",
        "    # Говорим jupyter'у, чтобы весь графический вывод был в браузере, а не в отдельном окне\n",
        "import pandas as pd             # Таблицы и временные ряды (dataframe, series)\n",
        "import seaborn as sns           # Еще больше красивой графики для визуализации данных\n",
        "import sklearn                  # Алгоритмы машинного обучения"
      ],
      "execution_count": 43,
      "outputs": []
    },
    {
      "cell_type": "markdown",
      "metadata": {
        "id": "02CPzZVh5Oe5",
        "colab_type": "text"
      },
      "source": [
        "### Некоторые методы предобработки данных\n",
        "\n",
        "- Визуализация\n",
        "- Удаление и корректировка выбросов\n",
        "- Обработка пропущенных значений\n",
        "- Обработка категориальных признаков\n",
        "- Нормализация данных"
      ]
    },
    {
      "cell_type": "markdown",
      "metadata": {
        "id": "e-n_kCvJ5Oe8",
        "colab_type": "text"
      },
      "source": [
        "# Оценка степени ожирения\n",
        "\n",
        "Даны физические характеристики группы из двух тысяч человек и информация о их привычках. Требуется определить, к какой группе отклонений по весу относится данный человек."
      ]
    },
    {
      "cell_type": "markdown",
      "metadata": {
        "id": "-l9OeVFg5Oe-",
        "colab_type": "text"
      },
      "source": [
        "## 1. Загружаем данные"
      ]
    },
    {
      "cell_type": "code",
      "metadata": {
        "id": "fG9Gz2PQ5OfA",
        "colab_type": "code",
        "colab": {}
      },
      "source": [
        "from google.colab import files\n",
        "# uploaded = files.upload()\n",
        "data_raw = pd.read_csv(\"/content/ObesityDataSet_raw_and_data_sinthetic.csv\")"
      ],
      "execution_count": 244,
      "outputs": []
    },
    {
      "cell_type": "markdown",
      "metadata": {
        "id": "5iS_9y355OfP",
        "colab_type": "text"
      },
      "source": [
        "Таблица содержит данные о более 2 тысяч людей\n",
        "\n",
        "Наряду со стандартными физическими показателями, указаны ответы на  вопросы о привычках. Данные взяты для следующих стран: Колумбия, Перу, Мексика."
      ]
    },
    {
      "cell_type": "code",
      "metadata": {
        "id": "3_HQ2Dlh5OfR",
        "colab_type": "code",
        "colab": {
          "base_uri": "https://localhost:8080/",
          "height": 35
        },
        "outputId": "041f07a6-b346-4061-bdd5-1088d1f029cf"
      },
      "source": [
        "data_raw.shape"
      ],
      "execution_count": 245,
      "outputs": [
        {
          "output_type": "execute_result",
          "data": {
            "text/plain": [
              "(2111, 17)"
            ]
          },
          "metadata": {
            "tags": []
          },
          "execution_count": 245
        }
      ]
    },
    {
      "cell_type": "markdown",
      "metadata": {
        "id": "DQxOT25x5Ofe",
        "colab_type": "text"
      },
      "source": [
        "\n",
        "Метод `data_raw.head()` отображает первые строки (по умолчанию, 5 строк) таблицы"
      ]
    },
    {
      "cell_type": "code",
      "metadata": {
        "id": "u-if_Vxg5Ofj",
        "colab_type": "code",
        "colab": {
          "base_uri": "https://localhost:8080/",
          "height": 222
        },
        "outputId": "217f22de-1e58-4f74-d2e9-889cb1fc19e4"
      },
      "source": [
        "data_raw.head()"
      ],
      "execution_count": 47,
      "outputs": [
        {
          "output_type": "execute_result",
          "data": {
            "text/html": [
              "<div>\n",
              "<style scoped>\n",
              "    .dataframe tbody tr th:only-of-type {\n",
              "        vertical-align: middle;\n",
              "    }\n",
              "\n",
              "    .dataframe tbody tr th {\n",
              "        vertical-align: top;\n",
              "    }\n",
              "\n",
              "    .dataframe thead th {\n",
              "        text-align: right;\n",
              "    }\n",
              "</style>\n",
              "<table border=\"1\" class=\"dataframe\">\n",
              "  <thead>\n",
              "    <tr style=\"text-align: right;\">\n",
              "      <th></th>\n",
              "      <th>Gender</th>\n",
              "      <th>Age</th>\n",
              "      <th>Height</th>\n",
              "      <th>Weight</th>\n",
              "      <th>family_history_with_overweight</th>\n",
              "      <th>FAVC</th>\n",
              "      <th>FCVC</th>\n",
              "      <th>NCP</th>\n",
              "      <th>CAEC</th>\n",
              "      <th>SMOKE</th>\n",
              "      <th>CH2O</th>\n",
              "      <th>SCC</th>\n",
              "      <th>FAF</th>\n",
              "      <th>TUE</th>\n",
              "      <th>CALC</th>\n",
              "      <th>MTRANS</th>\n",
              "      <th>NObeyesdad</th>\n",
              "    </tr>\n",
              "  </thead>\n",
              "  <tbody>\n",
              "    <tr>\n",
              "      <th>0</th>\n",
              "      <td>Female</td>\n",
              "      <td>21.0</td>\n",
              "      <td>1.62</td>\n",
              "      <td>64.0</td>\n",
              "      <td>yes</td>\n",
              "      <td>no</td>\n",
              "      <td>2.0</td>\n",
              "      <td>3.0</td>\n",
              "      <td>Sometimes</td>\n",
              "      <td>no</td>\n",
              "      <td>2.0</td>\n",
              "      <td>no</td>\n",
              "      <td>0.0</td>\n",
              "      <td>1.0</td>\n",
              "      <td>no</td>\n",
              "      <td>Public_Transportation</td>\n",
              "      <td>Normal_Weight</td>\n",
              "    </tr>\n",
              "    <tr>\n",
              "      <th>1</th>\n",
              "      <td>Female</td>\n",
              "      <td>21.0</td>\n",
              "      <td>1.52</td>\n",
              "      <td>56.0</td>\n",
              "      <td>yes</td>\n",
              "      <td>no</td>\n",
              "      <td>3.0</td>\n",
              "      <td>3.0</td>\n",
              "      <td>Sometimes</td>\n",
              "      <td>yes</td>\n",
              "      <td>3.0</td>\n",
              "      <td>yes</td>\n",
              "      <td>3.0</td>\n",
              "      <td>0.0</td>\n",
              "      <td>Sometimes</td>\n",
              "      <td>Public_Transportation</td>\n",
              "      <td>Normal_Weight</td>\n",
              "    </tr>\n",
              "    <tr>\n",
              "      <th>2</th>\n",
              "      <td>Male</td>\n",
              "      <td>23.0</td>\n",
              "      <td>1.80</td>\n",
              "      <td>77.0</td>\n",
              "      <td>yes</td>\n",
              "      <td>no</td>\n",
              "      <td>2.0</td>\n",
              "      <td>3.0</td>\n",
              "      <td>Sometimes</td>\n",
              "      <td>no</td>\n",
              "      <td>2.0</td>\n",
              "      <td>no</td>\n",
              "      <td>2.0</td>\n",
              "      <td>1.0</td>\n",
              "      <td>Frequently</td>\n",
              "      <td>Public_Transportation</td>\n",
              "      <td>Normal_Weight</td>\n",
              "    </tr>\n",
              "    <tr>\n",
              "      <th>3</th>\n",
              "      <td>Male</td>\n",
              "      <td>27.0</td>\n",
              "      <td>1.80</td>\n",
              "      <td>87.0</td>\n",
              "      <td>no</td>\n",
              "      <td>no</td>\n",
              "      <td>3.0</td>\n",
              "      <td>3.0</td>\n",
              "      <td>Sometimes</td>\n",
              "      <td>no</td>\n",
              "      <td>2.0</td>\n",
              "      <td>no</td>\n",
              "      <td>2.0</td>\n",
              "      <td>0.0</td>\n",
              "      <td>Frequently</td>\n",
              "      <td>Walking</td>\n",
              "      <td>Overweight_Level_I</td>\n",
              "    </tr>\n",
              "    <tr>\n",
              "      <th>4</th>\n",
              "      <td>Male</td>\n",
              "      <td>22.0</td>\n",
              "      <td>1.78</td>\n",
              "      <td>89.8</td>\n",
              "      <td>no</td>\n",
              "      <td>no</td>\n",
              "      <td>2.0</td>\n",
              "      <td>1.0</td>\n",
              "      <td>Sometimes</td>\n",
              "      <td>no</td>\n",
              "      <td>2.0</td>\n",
              "      <td>no</td>\n",
              "      <td>0.0</td>\n",
              "      <td>0.0</td>\n",
              "      <td>Sometimes</td>\n",
              "      <td>Public_Transportation</td>\n",
              "      <td>Overweight_Level_II</td>\n",
              "    </tr>\n",
              "  </tbody>\n",
              "</table>\n",
              "</div>"
            ],
            "text/plain": [
              "   Gender   Age  Height  ...        CALC                 MTRANS           NObeyesdad\n",
              "0  Female  21.0    1.62  ...          no  Public_Transportation        Normal_Weight\n",
              "1  Female  21.0    1.52  ...   Sometimes  Public_Transportation        Normal_Weight\n",
              "2    Male  23.0    1.80  ...  Frequently  Public_Transportation        Normal_Weight\n",
              "3    Male  27.0    1.80  ...  Frequently                Walking   Overweight_Level_I\n",
              "4    Male  22.0    1.78  ...   Sometimes  Public_Transportation  Overweight_Level_II\n",
              "\n",
              "[5 rows x 17 columns]"
            ]
          },
          "metadata": {
            "tags": []
          },
          "execution_count": 47
        }
      ]
    },
    {
      "cell_type": "markdown",
      "metadata": {
        "id": "olKGquVm5Ofu",
        "colab_type": "text"
      },
      "source": [
        "А вот последние строки:"
      ]
    },
    {
      "cell_type": "code",
      "metadata": {
        "id": "hkoBMk0o5Ofw",
        "colab_type": "code",
        "colab": {
          "base_uri": "https://localhost:8080/",
          "height": 222
        },
        "outputId": "48550883-44e1-4517-8883-0978a83ec346"
      },
      "source": [
        "data_raw.tail()"
      ],
      "execution_count": 223,
      "outputs": [
        {
          "output_type": "execute_result",
          "data": {
            "text/html": [
              "<div>\n",
              "<style scoped>\n",
              "    .dataframe tbody tr th:only-of-type {\n",
              "        vertical-align: middle;\n",
              "    }\n",
              "\n",
              "    .dataframe tbody tr th {\n",
              "        vertical-align: top;\n",
              "    }\n",
              "\n",
              "    .dataframe thead th {\n",
              "        text-align: right;\n",
              "    }\n",
              "</style>\n",
              "<table border=\"1\" class=\"dataframe\">\n",
              "  <thead>\n",
              "    <tr style=\"text-align: right;\">\n",
              "      <th></th>\n",
              "      <th>Gender</th>\n",
              "      <th>Age</th>\n",
              "      <th>Height</th>\n",
              "      <th>Weight</th>\n",
              "      <th>family_history_with_overweight</th>\n",
              "      <th>FAVC</th>\n",
              "      <th>FCVC</th>\n",
              "      <th>NCP</th>\n",
              "      <th>CAEC</th>\n",
              "      <th>SMOKE</th>\n",
              "      <th>CH2O</th>\n",
              "      <th>SCC</th>\n",
              "      <th>FAF</th>\n",
              "      <th>TUE</th>\n",
              "      <th>CALC</th>\n",
              "      <th>MTRANS</th>\n",
              "      <th>NObeyesdad</th>\n",
              "    </tr>\n",
              "  </thead>\n",
              "  <tbody>\n",
              "    <tr>\n",
              "      <th>2106</th>\n",
              "      <td>Female</td>\n",
              "      <td>20.976842</td>\n",
              "      <td>1.710730</td>\n",
              "      <td>131.408528</td>\n",
              "      <td>yes</td>\n",
              "      <td>yes</td>\n",
              "      <td>3.0</td>\n",
              "      <td>3.0</td>\n",
              "      <td>Sometimes</td>\n",
              "      <td>yes</td>\n",
              "      <td>1.728139</td>\n",
              "      <td>no</td>\n",
              "      <td>1.676269</td>\n",
              "      <td>0.906247</td>\n",
              "      <td>Sometimes</td>\n",
              "      <td>Public_Transportation</td>\n",
              "      <td>Obesity_Type_III</td>\n",
              "    </tr>\n",
              "    <tr>\n",
              "      <th>2107</th>\n",
              "      <td>Female</td>\n",
              "      <td>21.982942</td>\n",
              "      <td>1.748584</td>\n",
              "      <td>133.742943</td>\n",
              "      <td>yes</td>\n",
              "      <td>yes</td>\n",
              "      <td>3.0</td>\n",
              "      <td>3.0</td>\n",
              "      <td>Sometimes</td>\n",
              "      <td>yes</td>\n",
              "      <td>2.005130</td>\n",
              "      <td>no</td>\n",
              "      <td>1.341390</td>\n",
              "      <td>0.599270</td>\n",
              "      <td>Sometimes</td>\n",
              "      <td>Public_Transportation</td>\n",
              "      <td>Obesity_Type_III</td>\n",
              "    </tr>\n",
              "    <tr>\n",
              "      <th>2108</th>\n",
              "      <td>Female</td>\n",
              "      <td>22.524036</td>\n",
              "      <td>1.752206</td>\n",
              "      <td>133.689352</td>\n",
              "      <td>yes</td>\n",
              "      <td>yes</td>\n",
              "      <td>3.0</td>\n",
              "      <td>3.0</td>\n",
              "      <td>Sometimes</td>\n",
              "      <td>yes</td>\n",
              "      <td>2.054193</td>\n",
              "      <td>no</td>\n",
              "      <td>1.414209</td>\n",
              "      <td>0.646288</td>\n",
              "      <td>Sometimes</td>\n",
              "      <td>Public_Transportation</td>\n",
              "      <td>Obesity_Type_III</td>\n",
              "    </tr>\n",
              "    <tr>\n",
              "      <th>2109</th>\n",
              "      <td>Female</td>\n",
              "      <td>24.361936</td>\n",
              "      <td>1.739450</td>\n",
              "      <td>133.346641</td>\n",
              "      <td>yes</td>\n",
              "      <td>yes</td>\n",
              "      <td>3.0</td>\n",
              "      <td>3.0</td>\n",
              "      <td>Sometimes</td>\n",
              "      <td>yes</td>\n",
              "      <td>2.852339</td>\n",
              "      <td>no</td>\n",
              "      <td>1.139107</td>\n",
              "      <td>0.586035</td>\n",
              "      <td>Sometimes</td>\n",
              "      <td>Public_Transportation</td>\n",
              "      <td>Obesity_Type_III</td>\n",
              "    </tr>\n",
              "    <tr>\n",
              "      <th>2110</th>\n",
              "      <td>Female</td>\n",
              "      <td>23.664709</td>\n",
              "      <td>1.738836</td>\n",
              "      <td>133.472641</td>\n",
              "      <td>yes</td>\n",
              "      <td>yes</td>\n",
              "      <td>3.0</td>\n",
              "      <td>3.0</td>\n",
              "      <td>Sometimes</td>\n",
              "      <td>yes</td>\n",
              "      <td>2.863513</td>\n",
              "      <td>no</td>\n",
              "      <td>1.026452</td>\n",
              "      <td>0.714137</td>\n",
              "      <td>Sometimes</td>\n",
              "      <td>Public_Transportation</td>\n",
              "      <td>Obesity_Type_III</td>\n",
              "    </tr>\n",
              "  </tbody>\n",
              "</table>\n",
              "</div>"
            ],
            "text/plain": [
              "      Gender        Age  ...                 MTRANS        NObeyesdad\n",
              "2106  Female  20.976842  ...  Public_Transportation  Obesity_Type_III\n",
              "2107  Female  21.982942  ...  Public_Transportation  Obesity_Type_III\n",
              "2108  Female  22.524036  ...  Public_Transportation  Obesity_Type_III\n",
              "2109  Female  24.361936  ...  Public_Transportation  Obesity_Type_III\n",
              "2110  Female  23.664709  ...  Public_Transportation  Obesity_Type_III\n",
              "\n",
              "[5 rows x 17 columns]"
            ]
          },
          "metadata": {
            "tags": []
          },
          "execution_count": 223
        }
      ]
    },
    {
      "cell_type": "markdown",
      "metadata": {
        "id": "C1LrtQor5Of-",
        "colab_type": "text"
      },
      "source": [
        "Мы видим, что столбцы (признаки) имеют имена\n",
        "\n",
        "- `Gender` - пол\n",
        "- `Age` - возраст\n",
        "- `Height` - рост\n",
        "- `Weight` - вес\n",
        "- `family_history_with_overweight` - были ли в семье случаи ожирения\n",
        "- `FAVC` - часто ли ест калорийную пищу (да-нет)\n",
        "- `FCVC` - употребляет ли овощи (никогда - иногда - всегда). Возможны переходные значения.\n",
        "- `NCP` - число приемов пищи (один,два - три - более трех). Возможны переходные значения.\n",
        "- `CAEC` - ест ли между осеовными приемами пищи (нет - иногда - часто)\n",
        "- `SMOKE` - курит ли (да - нет)\n",
        "- `CH2O` - объем потребляемой воды (менее литра - от одного до двух - более двух). Возможны переходные значения.\n",
        "- `SCC` - следит ли за калориями (да - нет)\n",
        "- `FAF` - физическая активность (отсутствует - 1..2 дня - 2..4 дня - 4..5 дней). Возможны переходные значения.\n",
        "- `TUE` - сколько времени проводит за девайсами (0..2 часа - 3..5 часов - более 5). Возможны переходные значения.\n",
        "- `CALC` - употребление алкоголя (нет - иногда - часто - постоянно)\n",
        "- `MTRANS` - способ транспортации (машина - мотоцикл - велосипед - общественный - пешком)\n",
        "- `NObeyesdad` - отклонение от нормального веса (меньше нормы - норма - избыточный вес 1 - избыточный вес 2 - ожирение 1 - ожирение 2 - ожирение 3)\n",
        "\n",
        "Признаки `family_history_with_overweight`, `FAVC`, `SMOKE`, `SCC` - бинарные, `CAEC`, `SMOKE`, `SCC`, `CALC`, `MTRANS`, `NObeyesdad` - категориальные, остальные - числовые.\n",
        "\n",
        "Требуется отнести данного человека к группе по отклонению от нормального веса. Это *задача классификации*."
      ]
    },
    {
      "cell_type": "markdown",
      "metadata": {
        "id": "w8B7HBsj5OgA",
        "colab_type": "text"
      },
      "source": [
        "Имена столбцов (признаков) можно получить таким образом:"
      ]
    },
    {
      "cell_type": "code",
      "metadata": {
        "id": "ckdBLLQH5OgD",
        "colab_type": "code",
        "colab": {
          "base_uri": "https://localhost:8080/",
          "height": 87
        },
        "outputId": "642a32fb-29ec-403a-a603-49ca7fd23302"
      },
      "source": [
        "data_raw.columns"
      ],
      "execution_count": null,
      "outputs": [
        {
          "output_type": "execute_result",
          "data": {
            "text/plain": [
              "Index(['Gender', 'Age', 'Height', 'Weight', 'family_history_with_overweight',\n",
              "       'FAVC', 'FCVC', 'NCP', 'CAEC', 'SMOKE', 'CH2O', 'SCC', 'FAF', 'TUE',\n",
              "       'CALC', 'MTRANS', 'NObeyesdad'],\n",
              "      dtype='object')"
            ]
          },
          "metadata": {
            "tags": []
          },
          "execution_count": 40
        }
      ]
    },
    {
      "cell_type": "markdown",
      "metadata": {
        "id": "RmqnYc2P5OgR",
        "colab_type": "text"
      },
      "source": [
        "Имена строк (совпадают с номерами)"
      ]
    },
    {
      "cell_type": "code",
      "metadata": {
        "id": "_u6VWhdl5OgS",
        "colab_type": "code",
        "colab": {
          "base_uri": "https://localhost:8080/",
          "height": 35
        },
        "outputId": "775343b8-3f15-48b8-8d46-a792f0cb49e4"
      },
      "source": [
        "data_raw.index"
      ],
      "execution_count": null,
      "outputs": [
        {
          "output_type": "execute_result",
          "data": {
            "text/plain": [
              "RangeIndex(start=0, stop=2111, step=1)"
            ]
          },
          "metadata": {
            "tags": []
          },
          "execution_count": 9
        }
      ]
    },
    {
      "cell_type": "markdown",
      "metadata": {
        "id": "h2FGMKdU5Ogc",
        "colab_type": "text"
      },
      "source": [
        "Столбцы содержащие категориальные значения, имеют тип `'Object`'. Заменим тип на специальный, предназначенный для хранения категориальных значений:"
      ]
    },
    {
      "cell_type": "code",
      "metadata": {
        "id": "h0owL8tT5Oge",
        "colab_type": "code",
        "colab": {
          "base_uri": "https://localhost:8080/",
          "height": 35
        },
        "outputId": "0fbd5d54-4c86-4495-acb0-3ac3940adc58"
      },
      "source": [
        "data_raw['CAEC'].dtype"
      ],
      "execution_count": 48,
      "outputs": [
        {
          "output_type": "execute_result",
          "data": {
            "text/plain": [
              "dtype('O')"
            ]
          },
          "metadata": {
            "tags": []
          },
          "execution_count": 48
        }
      ]
    },
    {
      "cell_type": "markdown",
      "metadata": {
        "id": "DyAIapa6HP6T",
        "colab_type": "text"
      },
      "source": [
        "Так как выборка сравнительно небольшая для 7 признаков, то будем считать все виды избыточного веса за один"
      ]
    },
    {
      "cell_type": "code",
      "metadata": {
        "id": "VSjYrhmYEtC3",
        "colab_type": "code",
        "colab": {}
      },
      "source": [
        "for i in range(data_raw.shape[0]):\n",
        "  if data_raw.at[i, 'NObeyesdad'] == 'Normal_Weight':\n",
        "    data_raw.at[i, 'NObeyesdad'] = 'norm'\n",
        "  elif  data_raw.at[i, 'NObeyesdad'] == 'Insufficient_Weight':\n",
        "    data_raw.at[i, 'NObeyesdad'] = 'low'\n",
        "  else:\n",
        "    data_raw.at[i, 'NObeyesdad'] = 'high'"
      ],
      "execution_count": 246,
      "outputs": []
    },
    {
      "cell_type": "code",
      "metadata": {
        "id": "qsu1QUYB5Ogp",
        "colab_type": "code",
        "colab": {}
      },
      "source": [
        "data_raw['Gender'] = data_raw['Gender'].astype('category')\n",
        "data_raw['CAEC'] = data_raw['CAEC'].astype('category')\n",
        "data_raw['MTRANS'] = data_raw['MTRANS'].astype('category')\n",
        "data_raw['NObeyesdad'] = data_raw['NObeyesdad'].astype('category')\n",
        "data_raw['SMOKE'] = data_raw['FAVC'].astype('category')\n",
        "data_raw['CALC'] = data_raw['CALC'].astype('category')\n",
        "data_raw['SCC'] = data_raw['SCC'].astype('category')\n",
        "data_raw['FAVC'] = data_raw['FAVC'].astype('category')\n",
        "data_raw['family_history_with_overweight'] = data_raw['family_history_with_overweight'].astype('category')"
      ],
      "execution_count": 247,
      "outputs": []
    },
    {
      "cell_type": "code",
      "metadata": {
        "id": "0mAtjKQp5Og2",
        "colab_type": "code",
        "colab": {
          "base_uri": "https://localhost:8080/",
          "height": 35
        },
        "outputId": "b4380a34-b61f-4184-b6b8-51ecd65a3733"
      },
      "source": [
        "data_raw['NObeyesdad'].dtype"
      ],
      "execution_count": 279,
      "outputs": [
        {
          "output_type": "execute_result",
          "data": {
            "text/plain": [
              "CategoricalDtype(categories=['high', 'low', 'norm'], ordered=False)"
            ]
          },
          "metadata": {
            "tags": []
          },
          "execution_count": 279
        }
      ]
    },
    {
      "cell_type": "code",
      "metadata": {
        "id": "izFMdGfkLLIA",
        "colab_type": "code",
        "colab": {}
      },
      "source": [
        ""
      ],
      "execution_count": null,
      "outputs": []
    },
    {
      "cell_type": "code",
      "metadata": {
        "id": "RPe_E6K_5OhC",
        "colab_type": "code",
        "colab": {}
      },
      "source": [
        "data_raw['CALC'] = data_raw['CALC'].astype('category')"
      ],
      "execution_count": 249,
      "outputs": []
    },
    {
      "cell_type": "code",
      "metadata": {
        "id": "YhE3aYIe5OhN",
        "colab_type": "code",
        "colab": {
          "base_uri": "https://localhost:8080/",
          "height": 35
        },
        "outputId": "fe8d55f9-540a-425e-a0f9-9132148a58cb"
      },
      "source": [
        "data_raw['CALC'].dtype"
      ],
      "execution_count": 250,
      "outputs": [
        {
          "output_type": "execute_result",
          "data": {
            "text/plain": [
              "CategoricalDtype(categories=['Always', 'Frequently', 'Sometimes', 'no'], ordered=False)"
            ]
          },
          "metadata": {
            "tags": []
          },
          "execution_count": 250
        }
      ]
    },
    {
      "cell_type": "markdown",
      "metadata": {
        "id": "zcpSo4CC5OhU",
        "colab_type": "text"
      },
      "source": [
        "### Доступ к отдельным элементам и выделение подтаблиц (slice)\n",
        "\n",
        "  Cпособ доступа    |      Элемент  | Подтаблица\n",
        " ------------------ | ------------- | -----------\n",
        "  Доступ по имени   | `at`, `loc`   | `loc`\n",
        "  Доступ по номеру  | `iat`, `iloc` | `iloc`\n"
      ]
    },
    {
      "cell_type": "code",
      "metadata": {
        "id": "Wkhpz8YM5OhV",
        "colab_type": "code",
        "colab": {
          "base_uri": "https://localhost:8080/",
          "height": 35
        },
        "outputId": "0f8ef136-867a-4153-96e1-bb5a064d5549"
      },
      "source": [
        "data_raw.at[2, 'CALC']"
      ],
      "execution_count": null,
      "outputs": [
        {
          "output_type": "execute_result",
          "data": {
            "application/vnd.google.colaboratory.intrinsic+json": {
              "type": "string"
            },
            "text/plain": [
              "'Frequently'"
            ]
          },
          "metadata": {
            "tags": []
          },
          "execution_count": 81
        }
      ]
    },
    {
      "cell_type": "code",
      "metadata": {
        "id": "d1yHpE3o5Ohd",
        "colab_type": "code",
        "colab": {
          "base_uri": "https://localhost:8080/",
          "height": 35
        },
        "outputId": "e33194f1-ea21-453f-c289-7a68d7f9eb1a"
      },
      "source": [
        "data_raw.loc[2, 'CALC']"
      ],
      "execution_count": null,
      "outputs": [
        {
          "output_type": "execute_result",
          "data": {
            "application/vnd.google.colaboratory.intrinsic+json": {
              "type": "string"
            },
            "text/plain": [
              "'Frequently'"
            ]
          },
          "metadata": {
            "tags": []
          },
          "execution_count": 22
        }
      ]
    },
    {
      "cell_type": "code",
      "metadata": {
        "id": "FIlvARet5Ohl",
        "colab_type": "code",
        "colab": {
          "base_uri": "https://localhost:8080/",
          "height": 35
        },
        "outputId": "2dbeb997-9520-404f-dea2-207b5019a0a0"
      },
      "source": [
        "data_raw.iat[2, 14]"
      ],
      "execution_count": null,
      "outputs": [
        {
          "output_type": "execute_result",
          "data": {
            "application/vnd.google.colaboratory.intrinsic+json": {
              "type": "string"
            },
            "text/plain": [
              "'Frequently'"
            ]
          },
          "metadata": {
            "tags": []
          },
          "execution_count": 24
        }
      ]
    },
    {
      "cell_type": "code",
      "metadata": {
        "id": "SA-8wbzv5Ohu",
        "colab_type": "code",
        "colab": {
          "base_uri": "https://localhost:8080/",
          "height": 35
        },
        "outputId": "e15fd5c7-f6ed-40f3-ea66-f418acfcf6c2"
      },
      "source": [
        "data_raw.iloc[2, 14]"
      ],
      "execution_count": null,
      "outputs": [
        {
          "output_type": "execute_result",
          "data": {
            "application/vnd.google.colaboratory.intrinsic+json": {
              "type": "string"
            },
            "text/plain": [
              "'Frequently'"
            ]
          },
          "metadata": {
            "tags": []
          },
          "execution_count": 25
        }
      ]
    },
    {
      "cell_type": "markdown",
      "metadata": {
        "id": "dWo_LNIQ5Oh2",
        "colab_type": "text"
      },
      "source": [
        "### Подтаблицы\n",
        "\n",
        "`loc` и `iloc` (но не `at` и `iat`) позволяют выделять не только отдельные элементы, но и подтаблицы (slice)"
      ]
    },
    {
      "cell_type": "code",
      "metadata": {
        "id": "Ssj0AHP-5Oh3",
        "colab_type": "code",
        "colab": {
          "base_uri": "https://localhost:8080/",
          "height": 141
        },
        "outputId": "05969294-d434-4b80-be30-6705129ee49e"
      },
      "source": [
        "data_raw.loc[[2,3,5], ['Height', 'CAEC', 'CALC']]"
      ],
      "execution_count": null,
      "outputs": [
        {
          "output_type": "execute_result",
          "data": {
            "text/html": [
              "<div>\n",
              "<style scoped>\n",
              "    .dataframe tbody tr th:only-of-type {\n",
              "        vertical-align: middle;\n",
              "    }\n",
              "\n",
              "    .dataframe tbody tr th {\n",
              "        vertical-align: top;\n",
              "    }\n",
              "\n",
              "    .dataframe thead th {\n",
              "        text-align: right;\n",
              "    }\n",
              "</style>\n",
              "<table border=\"1\" class=\"dataframe\">\n",
              "  <thead>\n",
              "    <tr style=\"text-align: right;\">\n",
              "      <th></th>\n",
              "      <th>Height</th>\n",
              "      <th>CAEC</th>\n",
              "      <th>CALC</th>\n",
              "    </tr>\n",
              "  </thead>\n",
              "  <tbody>\n",
              "    <tr>\n",
              "      <th>2</th>\n",
              "      <td>1.80</td>\n",
              "      <td>Sometimes</td>\n",
              "      <td>Frequently</td>\n",
              "    </tr>\n",
              "    <tr>\n",
              "      <th>3</th>\n",
              "      <td>1.80</td>\n",
              "      <td>Sometimes</td>\n",
              "      <td>Frequently</td>\n",
              "    </tr>\n",
              "    <tr>\n",
              "      <th>5</th>\n",
              "      <td>1.62</td>\n",
              "      <td>Sometimes</td>\n",
              "      <td>Sometimes</td>\n",
              "    </tr>\n",
              "  </tbody>\n",
              "</table>\n",
              "</div>"
            ],
            "text/plain": [
              "   Height       CAEC        CALC\n",
              "2    1.80  Sometimes  Frequently\n",
              "3    1.80  Sometimes  Frequently\n",
              "5    1.62  Sometimes   Sometimes"
            ]
          },
          "metadata": {
            "tags": []
          },
          "execution_count": 29
        }
      ]
    },
    {
      "cell_type": "code",
      "metadata": {
        "id": "8pBD7leB5Oh9",
        "colab_type": "code",
        "colab": {
          "base_uri": "https://localhost:8080/",
          "height": 141
        },
        "outputId": "d5a14257-0e5c-4308-ac80-f88571840a7e"
      },
      "source": [
        "data_raw.iloc[[2,3,5], [2,8,14]]"
      ],
      "execution_count": null,
      "outputs": [
        {
          "output_type": "execute_result",
          "data": {
            "text/html": [
              "<div>\n",
              "<style scoped>\n",
              "    .dataframe tbody tr th:only-of-type {\n",
              "        vertical-align: middle;\n",
              "    }\n",
              "\n",
              "    .dataframe tbody tr th {\n",
              "        vertical-align: top;\n",
              "    }\n",
              "\n",
              "    .dataframe thead th {\n",
              "        text-align: right;\n",
              "    }\n",
              "</style>\n",
              "<table border=\"1\" class=\"dataframe\">\n",
              "  <thead>\n",
              "    <tr style=\"text-align: right;\">\n",
              "      <th></th>\n",
              "      <th>Height</th>\n",
              "      <th>CAEC</th>\n",
              "      <th>CALC</th>\n",
              "    </tr>\n",
              "  </thead>\n",
              "  <tbody>\n",
              "    <tr>\n",
              "      <th>2</th>\n",
              "      <td>1.80</td>\n",
              "      <td>Sometimes</td>\n",
              "      <td>Frequently</td>\n",
              "    </tr>\n",
              "    <tr>\n",
              "      <th>3</th>\n",
              "      <td>1.80</td>\n",
              "      <td>Sometimes</td>\n",
              "      <td>Frequently</td>\n",
              "    </tr>\n",
              "    <tr>\n",
              "      <th>5</th>\n",
              "      <td>1.62</td>\n",
              "      <td>Sometimes</td>\n",
              "      <td>Sometimes</td>\n",
              "    </tr>\n",
              "  </tbody>\n",
              "</table>\n",
              "</div>"
            ],
            "text/plain": [
              "   Height       CAEC        CALC\n",
              "2    1.80  Sometimes  Frequently\n",
              "3    1.80  Sometimes  Frequently\n",
              "5    1.62  Sometimes   Sometimes"
            ]
          },
          "metadata": {
            "tags": []
          },
          "execution_count": 30
        }
      ]
    },
    {
      "cell_type": "code",
      "metadata": {
        "id": "Ohvc5y9x5OiC",
        "colab_type": "code",
        "colab": {
          "base_uri": "https://localhost:8080/",
          "height": 35
        },
        "outputId": "b6370f2c-ba1b-49bf-92a7-7579801896e6"
      },
      "source": [
        "data_raw.loc[[2,3,5], ['Height', 'CAEC', 'CALC']].loc[5, 'CALC']"
      ],
      "execution_count": null,
      "outputs": [
        {
          "output_type": "execute_result",
          "data": {
            "application/vnd.google.colaboratory.intrinsic+json": {
              "type": "string"
            },
            "text/plain": [
              "'Sometimes'"
            ]
          },
          "metadata": {
            "tags": []
          },
          "execution_count": 31
        }
      ]
    },
    {
      "cell_type": "markdown",
      "metadata": {
        "id": "9E-KDhSG5OiG",
        "colab_type": "text"
      },
      "source": [
        "### Целые строки или столбцы:"
      ]
    },
    {
      "cell_type": "code",
      "metadata": {
        "id": "5YQDg8_s5OiH",
        "colab_type": "code",
        "colab": {
          "base_uri": "https://localhost:8080/",
          "height": 415
        },
        "outputId": "27e73525-4c5c-4f26-b268-c8c2b864ad1a"
      },
      "source": [
        "data_raw.loc[:, ['CAEC', 'CALC']] "
      ],
      "execution_count": null,
      "outputs": [
        {
          "output_type": "execute_result",
          "data": {
            "text/html": [
              "<div>\n",
              "<style scoped>\n",
              "    .dataframe tbody tr th:only-of-type {\n",
              "        vertical-align: middle;\n",
              "    }\n",
              "\n",
              "    .dataframe tbody tr th {\n",
              "        vertical-align: top;\n",
              "    }\n",
              "\n",
              "    .dataframe thead th {\n",
              "        text-align: right;\n",
              "    }\n",
              "</style>\n",
              "<table border=\"1\" class=\"dataframe\">\n",
              "  <thead>\n",
              "    <tr style=\"text-align: right;\">\n",
              "      <th></th>\n",
              "      <th>CAEC</th>\n",
              "      <th>CALC</th>\n",
              "    </tr>\n",
              "  </thead>\n",
              "  <tbody>\n",
              "    <tr>\n",
              "      <th>0</th>\n",
              "      <td>Sometimes</td>\n",
              "      <td>no</td>\n",
              "    </tr>\n",
              "    <tr>\n",
              "      <th>1</th>\n",
              "      <td>Sometimes</td>\n",
              "      <td>Sometimes</td>\n",
              "    </tr>\n",
              "    <tr>\n",
              "      <th>2</th>\n",
              "      <td>Sometimes</td>\n",
              "      <td>Frequently</td>\n",
              "    </tr>\n",
              "    <tr>\n",
              "      <th>3</th>\n",
              "      <td>Sometimes</td>\n",
              "      <td>Frequently</td>\n",
              "    </tr>\n",
              "    <tr>\n",
              "      <th>4</th>\n",
              "      <td>Sometimes</td>\n",
              "      <td>Sometimes</td>\n",
              "    </tr>\n",
              "    <tr>\n",
              "      <th>...</th>\n",
              "      <td>...</td>\n",
              "      <td>...</td>\n",
              "    </tr>\n",
              "    <tr>\n",
              "      <th>2106</th>\n",
              "      <td>Sometimes</td>\n",
              "      <td>Sometimes</td>\n",
              "    </tr>\n",
              "    <tr>\n",
              "      <th>2107</th>\n",
              "      <td>Sometimes</td>\n",
              "      <td>Sometimes</td>\n",
              "    </tr>\n",
              "    <tr>\n",
              "      <th>2108</th>\n",
              "      <td>Sometimes</td>\n",
              "      <td>Sometimes</td>\n",
              "    </tr>\n",
              "    <tr>\n",
              "      <th>2109</th>\n",
              "      <td>Sometimes</td>\n",
              "      <td>Sometimes</td>\n",
              "    </tr>\n",
              "    <tr>\n",
              "      <th>2110</th>\n",
              "      <td>Sometimes</td>\n",
              "      <td>Sometimes</td>\n",
              "    </tr>\n",
              "  </tbody>\n",
              "</table>\n",
              "<p>2111 rows × 2 columns</p>\n",
              "</div>"
            ],
            "text/plain": [
              "           CAEC        CALC\n",
              "0     Sometimes          no\n",
              "1     Sometimes   Sometimes\n",
              "2     Sometimes  Frequently\n",
              "3     Sometimes  Frequently\n",
              "4     Sometimes   Sometimes\n",
              "...         ...         ...\n",
              "2106  Sometimes   Sometimes\n",
              "2107  Sometimes   Sometimes\n",
              "2108  Sometimes   Sometimes\n",
              "2109  Sometimes   Sometimes\n",
              "2110  Sometimes   Sometimes\n",
              "\n",
              "[2111 rows x 2 columns]"
            ]
          },
          "metadata": {
            "tags": []
          },
          "execution_count": 32
        }
      ]
    },
    {
      "cell_type": "code",
      "metadata": {
        "id": "mkfcpte35OiN",
        "colab_type": "code",
        "colab": {
          "base_uri": "https://localhost:8080/",
          "height": 130
        },
        "outputId": "a10d4dd7-5f3d-43fe-d71a-287e82eda71f"
      },
      "source": [
        "data_raw.loc[[2, 5], :] # или data_raw.loc[[2, 5], ] или data_raw.loc[[2, 5]]"
      ],
      "execution_count": 96,
      "outputs": [
        {
          "output_type": "execute_result",
          "data": {
            "text/html": [
              "<div>\n",
              "<style scoped>\n",
              "    .dataframe tbody tr th:only-of-type {\n",
              "        vertical-align: middle;\n",
              "    }\n",
              "\n",
              "    .dataframe tbody tr th {\n",
              "        vertical-align: top;\n",
              "    }\n",
              "\n",
              "    .dataframe thead th {\n",
              "        text-align: right;\n",
              "    }\n",
              "</style>\n",
              "<table border=\"1\" class=\"dataframe\">\n",
              "  <thead>\n",
              "    <tr style=\"text-align: right;\">\n",
              "      <th></th>\n",
              "      <th>Gender</th>\n",
              "      <th>Age</th>\n",
              "      <th>Height</th>\n",
              "      <th>Weight</th>\n",
              "      <th>family_history_with_overweight</th>\n",
              "      <th>FAVC</th>\n",
              "      <th>FCVC</th>\n",
              "      <th>NCP</th>\n",
              "      <th>CAEC</th>\n",
              "      <th>SMOKE</th>\n",
              "      <th>CH2O</th>\n",
              "      <th>SCC</th>\n",
              "      <th>FAF</th>\n",
              "      <th>TUE</th>\n",
              "      <th>CALC</th>\n",
              "      <th>MTRANS</th>\n",
              "      <th>NObeyesdad</th>\n",
              "    </tr>\n",
              "  </thead>\n",
              "  <tbody>\n",
              "    <tr>\n",
              "      <th>2</th>\n",
              "      <td>1</td>\n",
              "      <td>23.0</td>\n",
              "      <td>1.80</td>\n",
              "      <td>77.0</td>\n",
              "      <td>yes</td>\n",
              "      <td>no</td>\n",
              "      <td>2.0</td>\n",
              "      <td>3.0</td>\n",
              "      <td>Sometimes</td>\n",
              "      <td>no</td>\n",
              "      <td>2.0</td>\n",
              "      <td>no</td>\n",
              "      <td>2.0</td>\n",
              "      <td>1.0</td>\n",
              "      <td>Frequently</td>\n",
              "      <td>Public_Transportation</td>\n",
              "      <td>Normal_Weight</td>\n",
              "    </tr>\n",
              "    <tr>\n",
              "      <th>5</th>\n",
              "      <td>1</td>\n",
              "      <td>29.0</td>\n",
              "      <td>1.62</td>\n",
              "      <td>53.0</td>\n",
              "      <td>no</td>\n",
              "      <td>yes</td>\n",
              "      <td>2.0</td>\n",
              "      <td>3.0</td>\n",
              "      <td>Sometimes</td>\n",
              "      <td>yes</td>\n",
              "      <td>2.0</td>\n",
              "      <td>no</td>\n",
              "      <td>0.0</td>\n",
              "      <td>0.0</td>\n",
              "      <td>Sometimes</td>\n",
              "      <td>Automobile</td>\n",
              "      <td>Normal_Weight</td>\n",
              "    </tr>\n",
              "  </tbody>\n",
              "</table>\n",
              "</div>"
            ],
            "text/plain": [
              "   Gender   Age  Height  ...        CALC                 MTRANS     NObeyesdad\n",
              "2       1  23.0    1.80  ...  Frequently  Public_Transportation  Normal_Weight\n",
              "5       1  29.0    1.62  ...   Sometimes             Automobile  Normal_Weight\n",
              "\n",
              "[2 rows x 17 columns]"
            ]
          },
          "metadata": {
            "tags": []
          },
          "execution_count": 96
        }
      ]
    },
    {
      "cell_type": "markdown",
      "metadata": {
        "id": "6wiIs0rr5OiU",
        "colab_type": "text"
      },
      "source": [
        "### Так нельзя:"
      ]
    },
    {
      "cell_type": "code",
      "metadata": {
        "id": "ExyOBL0z5OiU",
        "colab_type": "code",
        "colab": {}
      },
      "source": [
        "# data_raw[5, 'Building']"
      ],
      "execution_count": null,
      "outputs": []
    },
    {
      "cell_type": "markdown",
      "metadata": {
        "id": "DX3qYuea5OiZ",
        "colab_type": "text"
      },
      "source": [
        "### Так можно:"
      ]
    },
    {
      "cell_type": "code",
      "metadata": {
        "id": "UOfFsfri5OiZ",
        "colab_type": "code",
        "colab": {
          "base_uri": "https://localhost:8080/",
          "height": 243
        },
        "outputId": "cb012032-87ef-4a4e-cabb-434d6c0c31df"
      },
      "source": [
        "data_raw['CALC']"
      ],
      "execution_count": null,
      "outputs": [
        {
          "output_type": "execute_result",
          "data": {
            "text/plain": [
              "0               no\n",
              "1        Sometimes\n",
              "2       Frequently\n",
              "3       Frequently\n",
              "4        Sometimes\n",
              "           ...    \n",
              "2106     Sometimes\n",
              "2107     Sometimes\n",
              "2108     Sometimes\n",
              "2109     Sometimes\n",
              "2110     Sometimes\n",
              "Name: CALC, Length: 2111, dtype: category\n",
              "Categories (4, object): [Always, Frequently, Sometimes, no]"
            ]
          },
          "metadata": {
            "tags": []
          },
          "execution_count": 34
        }
      ]
    },
    {
      "cell_type": "markdown",
      "metadata": {
        "id": "j8OCTHJe5Oih",
        "colab_type": "text"
      },
      "source": [
        "или так:"
      ]
    },
    {
      "cell_type": "code",
      "metadata": {
        "id": "8VY42N9M5Oii",
        "colab_type": "code",
        "colab": {
          "base_uri": "https://localhost:8080/",
          "height": 243
        },
        "outputId": "537239cc-4d95-440b-c3ce-dc7d8536b0ff"
      },
      "source": [
        "data_raw.CALC"
      ],
      "execution_count": null,
      "outputs": [
        {
          "output_type": "execute_result",
          "data": {
            "text/plain": [
              "0               no\n",
              "1        Sometimes\n",
              "2       Frequently\n",
              "3       Frequently\n",
              "4        Sometimes\n",
              "           ...    \n",
              "2106     Sometimes\n",
              "2107     Sometimes\n",
              "2108     Sometimes\n",
              "2109     Sometimes\n",
              "2110     Sometimes\n",
              "Name: CALC, Length: 2111, dtype: category\n",
              "Categories (4, object): [Always, Frequently, Sometimes, no]"
            ]
          },
          "metadata": {
            "tags": []
          },
          "execution_count": 35
        }
      ]
    },
    {
      "cell_type": "code",
      "metadata": {
        "id": "yEdtuhKn5Oir",
        "colab_type": "code",
        "colab": {
          "base_uri": "https://localhost:8080/",
          "height": 415
        },
        "outputId": "2f833cb8-870c-4ee1-fd24-41529807c859"
      },
      "source": [
        "data_raw[['CAEC', 'CALC']]"
      ],
      "execution_count": null,
      "outputs": [
        {
          "output_type": "execute_result",
          "data": {
            "text/html": [
              "<div>\n",
              "<style scoped>\n",
              "    .dataframe tbody tr th:only-of-type {\n",
              "        vertical-align: middle;\n",
              "    }\n",
              "\n",
              "    .dataframe tbody tr th {\n",
              "        vertical-align: top;\n",
              "    }\n",
              "\n",
              "    .dataframe thead th {\n",
              "        text-align: right;\n",
              "    }\n",
              "</style>\n",
              "<table border=\"1\" class=\"dataframe\">\n",
              "  <thead>\n",
              "    <tr style=\"text-align: right;\">\n",
              "      <th></th>\n",
              "      <th>CAEC</th>\n",
              "      <th>CALC</th>\n",
              "    </tr>\n",
              "  </thead>\n",
              "  <tbody>\n",
              "    <tr>\n",
              "      <th>0</th>\n",
              "      <td>Sometimes</td>\n",
              "      <td>no</td>\n",
              "    </tr>\n",
              "    <tr>\n",
              "      <th>1</th>\n",
              "      <td>Sometimes</td>\n",
              "      <td>Sometimes</td>\n",
              "    </tr>\n",
              "    <tr>\n",
              "      <th>2</th>\n",
              "      <td>Sometimes</td>\n",
              "      <td>Frequently</td>\n",
              "    </tr>\n",
              "    <tr>\n",
              "      <th>3</th>\n",
              "      <td>Sometimes</td>\n",
              "      <td>Frequently</td>\n",
              "    </tr>\n",
              "    <tr>\n",
              "      <th>4</th>\n",
              "      <td>Sometimes</td>\n",
              "      <td>Sometimes</td>\n",
              "    </tr>\n",
              "    <tr>\n",
              "      <th>...</th>\n",
              "      <td>...</td>\n",
              "      <td>...</td>\n",
              "    </tr>\n",
              "    <tr>\n",
              "      <th>2106</th>\n",
              "      <td>Sometimes</td>\n",
              "      <td>Sometimes</td>\n",
              "    </tr>\n",
              "    <tr>\n",
              "      <th>2107</th>\n",
              "      <td>Sometimes</td>\n",
              "      <td>Sometimes</td>\n",
              "    </tr>\n",
              "    <tr>\n",
              "      <th>2108</th>\n",
              "      <td>Sometimes</td>\n",
              "      <td>Sometimes</td>\n",
              "    </tr>\n",
              "    <tr>\n",
              "      <th>2109</th>\n",
              "      <td>Sometimes</td>\n",
              "      <td>Sometimes</td>\n",
              "    </tr>\n",
              "    <tr>\n",
              "      <th>2110</th>\n",
              "      <td>Sometimes</td>\n",
              "      <td>Sometimes</td>\n",
              "    </tr>\n",
              "  </tbody>\n",
              "</table>\n",
              "<p>2111 rows × 2 columns</p>\n",
              "</div>"
            ],
            "text/plain": [
              "           CAEC        CALC\n",
              "0     Sometimes          no\n",
              "1     Sometimes   Sometimes\n",
              "2     Sometimes  Frequently\n",
              "3     Sometimes  Frequently\n",
              "4     Sometimes   Sometimes\n",
              "...         ...         ...\n",
              "2106  Sometimes   Sometimes\n",
              "2107  Sometimes   Sometimes\n",
              "2108  Sometimes   Sometimes\n",
              "2109  Sometimes   Sometimes\n",
              "2110  Sometimes   Sometimes\n",
              "\n",
              "[2111 rows x 2 columns]"
            ]
          },
          "metadata": {
            "tags": []
          },
          "execution_count": 36
        }
      ]
    },
    {
      "cell_type": "markdown",
      "metadata": {
        "id": "VZUadaDd5Oix",
        "colab_type": "text"
      },
      "source": [
        "### Доступ по булевой маске"
      ]
    },
    {
      "cell_type": "code",
      "metadata": {
        "id": "AfjHcore5Oiy",
        "colab_type": "code",
        "colab": {
          "base_uri": "https://localhost:8080/",
          "height": 171
        },
        "outputId": "6fd4dff8-90d1-42af-c941-8c506db40591"
      },
      "source": [
        "df = data_raw.iloc[:4, 4:8]\n",
        "df"
      ],
      "execution_count": null,
      "outputs": [
        {
          "output_type": "execute_result",
          "data": {
            "text/html": [
              "<div>\n",
              "<style scoped>\n",
              "    .dataframe tbody tr th:only-of-type {\n",
              "        vertical-align: middle;\n",
              "    }\n",
              "\n",
              "    .dataframe tbody tr th {\n",
              "        vertical-align: top;\n",
              "    }\n",
              "\n",
              "    .dataframe thead th {\n",
              "        text-align: right;\n",
              "    }\n",
              "</style>\n",
              "<table border=\"1\" class=\"dataframe\">\n",
              "  <thead>\n",
              "    <tr style=\"text-align: right;\">\n",
              "      <th></th>\n",
              "      <th>family_history_with_overweight</th>\n",
              "      <th>FAVC</th>\n",
              "      <th>FCVC</th>\n",
              "      <th>NCP</th>\n",
              "    </tr>\n",
              "  </thead>\n",
              "  <tbody>\n",
              "    <tr>\n",
              "      <th>0</th>\n",
              "      <td>yes</td>\n",
              "      <td>no</td>\n",
              "      <td>2.0</td>\n",
              "      <td>3.0</td>\n",
              "    </tr>\n",
              "    <tr>\n",
              "      <th>1</th>\n",
              "      <td>yes</td>\n",
              "      <td>no</td>\n",
              "      <td>3.0</td>\n",
              "      <td>3.0</td>\n",
              "    </tr>\n",
              "    <tr>\n",
              "      <th>2</th>\n",
              "      <td>yes</td>\n",
              "      <td>no</td>\n",
              "      <td>2.0</td>\n",
              "      <td>3.0</td>\n",
              "    </tr>\n",
              "    <tr>\n",
              "      <th>3</th>\n",
              "      <td>no</td>\n",
              "      <td>no</td>\n",
              "      <td>3.0</td>\n",
              "      <td>3.0</td>\n",
              "    </tr>\n",
              "  </tbody>\n",
              "</table>\n",
              "</div>"
            ],
            "text/plain": [
              "  family_history_with_overweight FAVC  FCVC  NCP\n",
              "0                            yes   no   2.0  3.0\n",
              "1                            yes   no   3.0  3.0\n",
              "2                            yes   no   2.0  3.0\n",
              "3                             no   no   3.0  3.0"
            ]
          },
          "metadata": {
            "tags": []
          },
          "execution_count": 103
        }
      ]
    },
    {
      "cell_type": "code",
      "metadata": {
        "id": "CbjiOB6A5Oi2",
        "colab_type": "code",
        "colab": {
          "base_uri": "https://localhost:8080/",
          "height": 141
        },
        "outputId": "3ccadedb-4137-4e18-d539-2eb37ea3066a"
      },
      "source": [
        "df.loc[[True, True, False, True], [False, True, True, False]] # или iloc"
      ],
      "execution_count": null,
      "outputs": [
        {
          "output_type": "execute_result",
          "data": {
            "text/html": [
              "<div>\n",
              "<style scoped>\n",
              "    .dataframe tbody tr th:only-of-type {\n",
              "        vertical-align: middle;\n",
              "    }\n",
              "\n",
              "    .dataframe tbody tr th {\n",
              "        vertical-align: top;\n",
              "    }\n",
              "\n",
              "    .dataframe thead th {\n",
              "        text-align: right;\n",
              "    }\n",
              "</style>\n",
              "<table border=\"1\" class=\"dataframe\">\n",
              "  <thead>\n",
              "    <tr style=\"text-align: right;\">\n",
              "      <th></th>\n",
              "      <th>FAVC</th>\n",
              "      <th>FCVC</th>\n",
              "    </tr>\n",
              "  </thead>\n",
              "  <tbody>\n",
              "    <tr>\n",
              "      <th>0</th>\n",
              "      <td>no</td>\n",
              "      <td>2.0</td>\n",
              "    </tr>\n",
              "    <tr>\n",
              "      <th>1</th>\n",
              "      <td>no</td>\n",
              "      <td>3.0</td>\n",
              "    </tr>\n",
              "    <tr>\n",
              "      <th>3</th>\n",
              "      <td>no</td>\n",
              "      <td>3.0</td>\n",
              "    </tr>\n",
              "  </tbody>\n",
              "</table>\n",
              "</div>"
            ],
            "text/plain": [
              "  FAVC  FCVC\n",
              "0   no   2.0\n",
              "1   no   3.0\n",
              "3   no   3.0"
            ]
          },
          "metadata": {
            "tags": []
          },
          "execution_count": 38
        }
      ]
    },
    {
      "cell_type": "code",
      "metadata": {
        "id": "rlFiDrB05Oi7",
        "colab_type": "code",
        "colab": {
          "base_uri": "https://localhost:8080/",
          "height": 141
        },
        "outputId": "376fbd01-59a9-47c7-a174-3c9739101f83"
      },
      "source": [
        "df.loc[[True, True, False, True]] # или iloc"
      ],
      "execution_count": null,
      "outputs": [
        {
          "output_type": "execute_result",
          "data": {
            "text/html": [
              "<div>\n",
              "<style scoped>\n",
              "    .dataframe tbody tr th:only-of-type {\n",
              "        vertical-align: middle;\n",
              "    }\n",
              "\n",
              "    .dataframe tbody tr th {\n",
              "        vertical-align: top;\n",
              "    }\n",
              "\n",
              "    .dataframe thead th {\n",
              "        text-align: right;\n",
              "    }\n",
              "</style>\n",
              "<table border=\"1\" class=\"dataframe\">\n",
              "  <thead>\n",
              "    <tr style=\"text-align: right;\">\n",
              "      <th></th>\n",
              "      <th>family_history_with_overweight</th>\n",
              "      <th>FAVC</th>\n",
              "      <th>FCVC</th>\n",
              "      <th>NCP</th>\n",
              "    </tr>\n",
              "  </thead>\n",
              "  <tbody>\n",
              "    <tr>\n",
              "      <th>0</th>\n",
              "      <td>yes</td>\n",
              "      <td>no</td>\n",
              "      <td>2.0</td>\n",
              "      <td>3.0</td>\n",
              "    </tr>\n",
              "    <tr>\n",
              "      <th>1</th>\n",
              "      <td>yes</td>\n",
              "      <td>no</td>\n",
              "      <td>3.0</td>\n",
              "      <td>3.0</td>\n",
              "    </tr>\n",
              "    <tr>\n",
              "      <th>3</th>\n",
              "      <td>no</td>\n",
              "      <td>no</td>\n",
              "      <td>3.0</td>\n",
              "      <td>3.0</td>\n",
              "    </tr>\n",
              "  </tbody>\n",
              "</table>\n",
              "</div>"
            ],
            "text/plain": [
              "  family_history_with_overweight FAVC  FCVC  NCP\n",
              "0                            yes   no   2.0  3.0\n",
              "1                            yes   no   3.0  3.0\n",
              "3                             no   no   3.0  3.0"
            ]
          },
          "metadata": {
            "tags": []
          },
          "execution_count": 39
        }
      ]
    },
    {
      "cell_type": "code",
      "metadata": {
        "id": "RWyAL5XN5OjH",
        "colab_type": "code",
        "colab": {
          "base_uri": "https://localhost:8080/",
          "height": 141
        },
        "outputId": "ac2b6f59-4036-4631-cb12-b33af341512c"
      },
      "source": [
        "df[[True, True, False, True]]"
      ],
      "execution_count": null,
      "outputs": [
        {
          "output_type": "execute_result",
          "data": {
            "text/html": [
              "<div>\n",
              "<style scoped>\n",
              "    .dataframe tbody tr th:only-of-type {\n",
              "        vertical-align: middle;\n",
              "    }\n",
              "\n",
              "    .dataframe tbody tr th {\n",
              "        vertical-align: top;\n",
              "    }\n",
              "\n",
              "    .dataframe thead th {\n",
              "        text-align: right;\n",
              "    }\n",
              "</style>\n",
              "<table border=\"1\" class=\"dataframe\">\n",
              "  <thead>\n",
              "    <tr style=\"text-align: right;\">\n",
              "      <th></th>\n",
              "      <th>family_history_with_overweight</th>\n",
              "      <th>FAVC</th>\n",
              "      <th>FCVC</th>\n",
              "      <th>NCP</th>\n",
              "    </tr>\n",
              "  </thead>\n",
              "  <tbody>\n",
              "    <tr>\n",
              "      <th>0</th>\n",
              "      <td>yes</td>\n",
              "      <td>no</td>\n",
              "      <td>2.0</td>\n",
              "      <td>3.0</td>\n",
              "    </tr>\n",
              "    <tr>\n",
              "      <th>1</th>\n",
              "      <td>yes</td>\n",
              "      <td>no</td>\n",
              "      <td>3.0</td>\n",
              "      <td>3.0</td>\n",
              "    </tr>\n",
              "    <tr>\n",
              "      <th>3</th>\n",
              "      <td>no</td>\n",
              "      <td>no</td>\n",
              "      <td>3.0</td>\n",
              "      <td>3.0</td>\n",
              "    </tr>\n",
              "  </tbody>\n",
              "</table>\n",
              "</div>"
            ],
            "text/plain": [
              "  family_history_with_overweight FAVC  FCVC  NCP\n",
              "0                            yes   no   2.0  3.0\n",
              "1                            yes   no   3.0  3.0\n",
              "3                             no   no   3.0  3.0"
            ]
          },
          "metadata": {
            "tags": []
          },
          "execution_count": 40
        }
      ]
    },
    {
      "cell_type": "code",
      "metadata": {
        "id": "O4WxMHhx5OjQ",
        "colab_type": "code",
        "colab": {
          "base_uri": "https://localhost:8080/",
          "height": 171
        },
        "outputId": "13b54311-caa5-4067-88ed-75400c1b26de"
      },
      "source": [
        "df.loc[df.FAVC == 'no', ]"
      ],
      "execution_count": null,
      "outputs": [
        {
          "output_type": "execute_result",
          "data": {
            "text/html": [
              "<div>\n",
              "<style scoped>\n",
              "    .dataframe tbody tr th:only-of-type {\n",
              "        vertical-align: middle;\n",
              "    }\n",
              "\n",
              "    .dataframe tbody tr th {\n",
              "        vertical-align: top;\n",
              "    }\n",
              "\n",
              "    .dataframe thead th {\n",
              "        text-align: right;\n",
              "    }\n",
              "</style>\n",
              "<table border=\"1\" class=\"dataframe\">\n",
              "  <thead>\n",
              "    <tr style=\"text-align: right;\">\n",
              "      <th></th>\n",
              "      <th>family_history_with_overweight</th>\n",
              "      <th>FAVC</th>\n",
              "      <th>FCVC</th>\n",
              "      <th>NCP</th>\n",
              "    </tr>\n",
              "  </thead>\n",
              "  <tbody>\n",
              "    <tr>\n",
              "      <th>0</th>\n",
              "      <td>yes</td>\n",
              "      <td>no</td>\n",
              "      <td>2.0</td>\n",
              "      <td>3.0</td>\n",
              "    </tr>\n",
              "    <tr>\n",
              "      <th>1</th>\n",
              "      <td>yes</td>\n",
              "      <td>no</td>\n",
              "      <td>3.0</td>\n",
              "      <td>3.0</td>\n",
              "    </tr>\n",
              "    <tr>\n",
              "      <th>2</th>\n",
              "      <td>yes</td>\n",
              "      <td>no</td>\n",
              "      <td>2.0</td>\n",
              "      <td>3.0</td>\n",
              "    </tr>\n",
              "    <tr>\n",
              "      <th>3</th>\n",
              "      <td>no</td>\n",
              "      <td>no</td>\n",
              "      <td>3.0</td>\n",
              "      <td>3.0</td>\n",
              "    </tr>\n",
              "  </tbody>\n",
              "</table>\n",
              "</div>"
            ],
            "text/plain": [
              "  family_history_with_overweight FAVC  FCVC  NCP\n",
              "0                            yes   no   2.0  3.0\n",
              "1                            yes   no   3.0  3.0\n",
              "2                            yes   no   2.0  3.0\n",
              "3                             no   no   3.0  3.0"
            ]
          },
          "metadata": {
            "tags": []
          },
          "execution_count": 45
        }
      ]
    },
    {
      "cell_type": "markdown",
      "metadata": {
        "id": "-krmuUEw5OjW",
        "colab_type": "text"
      },
      "source": [
        "## 2. Боремся с выбросами (outliers)\n",
        "\n",
        "Наиболее естественная оценка ожирения выводится из соотношения роста и веса.\n",
        "Построим поэтому диаграмму рассеивания для двух признаков: `Height` и `Weight`.\n"
      ]
    },
    {
      "cell_type": "code",
      "metadata": {
        "id": "eQosSb2mOPZ5",
        "colab_type": "code",
        "colab": {}
      },
      "source": [
        ""
      ],
      "execution_count": null,
      "outputs": []
    },
    {
      "cell_type": "code",
      "metadata": {
        "id": "PraGnUM45OjW",
        "colab_type": "code",
        "colab": {
          "base_uri": "https://localhost:8080/",
          "height": 265
        },
        "outputId": "335387ae-360c-4002-c023-0161c94cb79b"
      },
      "source": [
        "plt.scatter(data_raw['Height'], data_raw['Weight'])\n",
        "pass"
      ],
      "execution_count": 225,
      "outputs": [
        {
          "output_type": "display_data",
          "data": {
            "image/png": "[encoded data removed]",
            "text/plain": [
              "<Figure size 432x288 with 1 Axes>"
            ]
          },
          "metadata": {
            "tags": [],
            "needs_background": "light"
          }
        }
      ]
    },
    {
      "cell_type": "markdown",
      "metadata": {
        "id": "oPOARlrU5Ojf",
        "colab_type": "text"
      },
      "source": [
        "Можно вот так:"
      ]
    },
    {
      "cell_type": "code",
      "metadata": {
        "id": "5_xTCK3l5Ojg",
        "colab_type": "code",
        "colab": {
          "base_uri": "https://localhost:8080/",
          "height": 265
        },
        "outputId": "d92b4bb9-1bfb-48a1-bb9b-4e38b91c3e2e"
      },
      "source": [
        "plt.scatter(x='Height', y='Weight', data=data_raw)\n",
        "pass"
      ],
      "execution_count": 280,
      "outputs": [
        {
          "output_type": "display_data",
          "data": {
            "image/png": "[encoded data removed]",
            "text/plain": [
              "<Figure size 432x288 with 1 Axes>"
            ]
          },
          "metadata": {
            "tags": [],
            "needs_background": "light"
          }
        }
      ]
    },
    {
      "cell_type": "markdown",
      "metadata": {
        "id": "9N4oYV2E5Ojm",
        "colab_type": "text"
      },
      "source": [
        "Мы видим, что основная масса точек расположена вдоль широкой полосы, проходящей по диагонали графика. Какие-то точки соответствуют людям с чрезмерно большими значениями роста или веса. Это *выбросы* (*outliers*) - объекты, значения признаков которых сильно отличаются от признаков основной массы объектов, сильно выпадающих из общей картины. Возможно, так проявляются редкие патологии.\n",
        "\n",
        "Для обнаружения выбросов найдем, например, квантили для признаков `Height` и `Weight`:"
      ]
    },
    {
      "cell_type": "code",
      "metadata": {
        "id": "pFmJ0csF5Ojn",
        "colab_type": "code",
        "colab": {
          "base_uri": "https://localhost:8080/",
          "height": 191
        },
        "outputId": "9abdabd3-ac4a-41d1-edb3-5bb9cb5b6178"
      },
      "source": [
        "data_raw['Height'].quantile([0.005,.01,.05,.1,.5,.9,.95,.99,.995])"
      ],
      "execution_count": null,
      "outputs": [
        {
          "output_type": "execute_result",
          "data": {
            "text/plain": [
              "0.005    1.500000\n",
              "0.010    1.500199\n",
              "0.050    1.548291\n",
              "0.100    1.580000\n",
              "0.500    1.700499\n",
              "0.900    1.823755\n",
              "0.950    1.850000\n",
              "0.990    1.909055\n",
              "0.995    1.916737\n",
              "Name: Height, dtype: float64"
            ]
          },
          "metadata": {
            "tags": []
          },
          "execution_count": 24
        }
      ]
    },
    {
      "cell_type": "markdown",
      "metadata": {
        "id": "Qaj1g3g65Ojw",
        "colab_type": "text"
      },
      "source": [
        "Мы видим, например, что $99\\%$ всех значений признака `'Height'` находится в диапазоне от $1.5$ до $1.916$ метров (это значения квантилей, соответствующих уровням $0.005$ и $0.995$ соотвтетственно)"
      ]
    },
    {
      "cell_type": "code",
      "metadata": {
        "id": "LwN4i8be5Ojx",
        "colab_type": "code",
        "colab": {
          "base_uri": "https://localhost:8080/",
          "height": 191
        },
        "outputId": "a687b326-9351-45bc-e3c5-69bb64e7c610"
      },
      "source": [
        "data_raw['Weight'].quantile([0.005,.01,.05,.1,.5,.9,.95,.99,.995])"
      ],
      "execution_count": null,
      "outputs": [
        {
          "output_type": "execute_result",
          "data": {
            "text/plain": [
              "0.005     41.364609\n",
              "0.010     42.000000\n",
              "0.050     48.500000\n",
              "0.100     51.154201\n",
              "0.500     83.000000\n",
              "0.900    120.921535\n",
              "0.950    131.916152\n",
              "0.990    150.333398\n",
              "0.995    152.515973\n",
              "Name: Weight, dtype: float64"
            ]
          },
          "metadata": {
            "tags": []
          },
          "execution_count": 54
        }
      ]
    },
    {
      "cell_type": "markdown",
      "metadata": {
        "id": "2zHGs-2h5Oj0",
        "colab_type": "text"
      },
      "source": [
        "$99.9\\%$ всех значений `'Weight'` находится в диапазоне от $41.364609$ до $152.515973$ кг.\n"
      ]
    },
    {
      "cell_type": "markdown",
      "metadata": {
        "id": "63EKlY2-5Oj1",
        "colab_type": "text"
      },
      "source": [
        "Удалим все строки таблицы, в которых `'Weight'` или `'Height'` выходят за пределы квантилей $0.005$, $0.995$."
      ]
    },
    {
      "cell_type": "code",
      "metadata": {
        "id": "GeS9gXxn5Oj2",
        "colab_type": "code",
        "colab": {
          "base_uri": "https://localhost:8080/",
          "height": 35
        },
        "outputId": "0c06be3b-a205-415c-a8a4-7e70d1618d1d"
      },
      "source": [
        "rows_to_drop = data_raw[\n",
        "    (data_raw['Weight'] < data_raw['Weight'].quantile(0.005)) | (data_raw['Weight'] > data_raw['Weight'].quantile(0.995)) | \n",
        "    (data_raw['Height']  < data_raw['Height' ].quantile(0.005)) | (data_raw['Height']  > data_raw['Height' ].quantile(0.995))].index\n",
        "data = data_raw.drop(rows_to_drop)\n",
        "data.shape"
      ],
      "execution_count": 296,
      "outputs": [
        {
          "output_type": "execute_result",
          "data": {
            "text/plain": [
              "(2069, 17)"
            ]
          },
          "metadata": {
            "tags": []
          },
          "execution_count": 296
        }
      ]
    },
    {
      "cell_type": "code",
      "metadata": {
        "id": "ZHaWe7HI5Oj5",
        "colab_type": "code",
        "colab": {
          "base_uri": "https://localhost:8080/",
          "height": 104
        },
        "outputId": "109c8adf-ea92-447a-93ff-61aa02f5440c"
      },
      "source": [
        "rows_to_drop"
      ],
      "execution_count": 215,
      "outputs": [
        {
          "output_type": "execute_result",
          "data": {
            "text/plain": [
              "Int64Index([  16,  165,  183,  198,  334,  344,  349,  395,  464,  502,  522,\n",
              "             588,  589,  590,  619,  636,  724,  725,  726,  865,  866,  951,\n",
              "             990, 1066, 1093, 1135, 1166, 1261, 1262, 1349, 1350, 1479, 1605,\n",
              "            1826, 1838, 1897, 1898, 1910, 1926, 1997, 1998, 2029],\n",
              "           dtype='int64')"
            ]
          },
          "metadata": {
            "tags": []
          },
          "execution_count": 215
        }
      ]
    },
    {
      "cell_type": "markdown",
      "metadata": {
        "id": "aQQhVDBL5Oj9",
        "colab_type": "text"
      },
      "source": [
        "## 3. Визуализация и описательная статистика"
      ]
    },
    {
      "cell_type": "markdown",
      "metadata": {
        "id": "9iHTiSSR-KCQ",
        "colab_type": "text"
      },
      "source": [
        ""
      ]
    },
    {
      "cell_type": "markdown",
      "metadata": {
        "id": "XCtIYzBp5OkG",
        "colab_type": "text"
      },
      "source": [
        "Визуализация и описательная статистика - важные этапы анализа данных.\n",
        "Сводную информацию о признаках можем получить, вызвав метод `describe`:"
      ]
    },
    {
      "cell_type": "code",
      "metadata": {
        "id": "6gPhztY_5OkH",
        "colab_type": "code",
        "colab": {
          "base_uri": "https://localhost:8080/",
          "height": 294
        },
        "outputId": "47a7306a-0b47-44d7-a437-fa9999f1d28b"
      },
      "source": [
        "data.describe()"
      ],
      "execution_count": 183,
      "outputs": [
        {
          "output_type": "execute_result",
          "data": {
            "text/html": [
              "<div>\n",
              "<style scoped>\n",
              "    .dataframe tbody tr th:only-of-type {\n",
              "        vertical-align: middle;\n",
              "    }\n",
              "\n",
              "    .dataframe tbody tr th {\n",
              "        vertical-align: top;\n",
              "    }\n",
              "\n",
              "    .dataframe thead th {\n",
              "        text-align: right;\n",
              "    }\n",
              "</style>\n",
              "<table border=\"1\" class=\"dataframe\">\n",
              "  <thead>\n",
              "    <tr style=\"text-align: right;\">\n",
              "      <th></th>\n",
              "      <th>Age</th>\n",
              "      <th>Height</th>\n",
              "      <th>Weight</th>\n",
              "      <th>FCVC</th>\n",
              "      <th>NCP</th>\n",
              "      <th>CH2O</th>\n",
              "      <th>FAF</th>\n",
              "      <th>TUE</th>\n",
              "    </tr>\n",
              "  </thead>\n",
              "  <tbody>\n",
              "    <tr>\n",
              "      <th>count</th>\n",
              "      <td>2069.000000</td>\n",
              "      <td>2069.000000</td>\n",
              "      <td>2069.000000</td>\n",
              "      <td>2069.000000</td>\n",
              "      <td>2069.000000</td>\n",
              "      <td>2069.000000</td>\n",
              "      <td>2069.000000</td>\n",
              "      <td>2069.000000</td>\n",
              "    </tr>\n",
              "    <tr>\n",
              "      <th>mean</th>\n",
              "      <td>24.382371</td>\n",
              "      <td>1.701553</td>\n",
              "      <td>86.423053</td>\n",
              "      <td>2.422696</td>\n",
              "      <td>2.689249</td>\n",
              "      <td>2.010000</td>\n",
              "      <td>1.011253</td>\n",
              "      <td>0.652350</td>\n",
              "    </tr>\n",
              "    <tr>\n",
              "      <th>std</th>\n",
              "      <td>6.374717</td>\n",
              "      <td>0.090451</td>\n",
              "      <td>25.538106</td>\n",
              "      <td>0.532611</td>\n",
              "      <td>0.776829</td>\n",
              "      <td>0.611888</td>\n",
              "      <td>0.851536</td>\n",
              "      <td>0.607462</td>\n",
              "    </tr>\n",
              "    <tr>\n",
              "      <th>min</th>\n",
              "      <td>14.000000</td>\n",
              "      <td>1.500000</td>\n",
              "      <td>41.397378</td>\n",
              "      <td>1.000000</td>\n",
              "      <td>1.000000</td>\n",
              "      <td>1.000000</td>\n",
              "      <td>0.000000</td>\n",
              "      <td>0.000000</td>\n",
              "    </tr>\n",
              "    <tr>\n",
              "      <th>25%</th>\n",
              "      <td>19.979810</td>\n",
              "      <td>1.630000</td>\n",
              "      <td>66.000000</td>\n",
              "      <td>2.000000</td>\n",
              "      <td>2.667711</td>\n",
              "      <td>1.596212</td>\n",
              "      <td>0.118271</td>\n",
              "      <td>0.000000</td>\n",
              "    </tr>\n",
              "    <tr>\n",
              "      <th>50%</th>\n",
              "      <td>22.865018</td>\n",
              "      <td>1.700216</td>\n",
              "      <td>83.000000</td>\n",
              "      <td>2.396265</td>\n",
              "      <td>3.000000</td>\n",
              "      <td>2.000000</td>\n",
              "      <td>1.000000</td>\n",
              "      <td>0.618087</td>\n",
              "    </tr>\n",
              "    <tr>\n",
              "      <th>75%</th>\n",
              "      <td>26.000000</td>\n",
              "      <td>1.767077</td>\n",
              "      <td>106.528811</td>\n",
              "      <td>3.000000</td>\n",
              "      <td>3.000000</td>\n",
              "      <td>2.482933</td>\n",
              "      <td>1.666390</td>\n",
              "      <td>1.000000</td>\n",
              "    </tr>\n",
              "    <tr>\n",
              "      <th>max</th>\n",
              "      <td>61.000000</td>\n",
              "      <td>1.915000</td>\n",
              "      <td>152.473675</td>\n",
              "      <td>3.000000</td>\n",
              "      <td>4.000000</td>\n",
              "      <td>3.000000</td>\n",
              "      <td>3.000000</td>\n",
              "      <td>2.000000</td>\n",
              "    </tr>\n",
              "  </tbody>\n",
              "</table>\n",
              "</div>"
            ],
            "text/plain": [
              "               Age       Height  ...          FAF          TUE\n",
              "count  2069.000000  2069.000000  ...  2069.000000  2069.000000\n",
              "mean     24.382371     1.701553  ...     1.011253     0.652350\n",
              "std       6.374717     0.090451  ...     0.851536     0.607462\n",
              "min      14.000000     1.500000  ...     0.000000     0.000000\n",
              "25%      19.979810     1.630000  ...     0.118271     0.000000\n",
              "50%      22.865018     1.700216  ...     1.000000     0.618087\n",
              "75%      26.000000     1.767077  ...     1.666390     1.000000\n",
              "max      61.000000     1.915000  ...     3.000000     2.000000\n",
              "\n",
              "[8 rows x 8 columns]"
            ]
          },
          "metadata": {
            "tags": []
          },
          "execution_count": 183
        }
      ]
    },
    {
      "cell_type": "markdown",
      "metadata": {
        "id": "3znmi2t45OkP",
        "colab_type": "text"
      },
      "source": [
        "Для каждого количественного признака приведены средние значения, стандартное отклонение, минимальное и макимальное значения, медиана и значения квартилей.\n",
        "\n",
        "По умолчанию этот метод дает информацию только о количественных признаках.\n",
        "Получил информацию о категориальных:"
      ]
    },
    {
      "cell_type": "code",
      "metadata": {
        "id": "j_Q3XSaL5OkR",
        "colab_type": "code",
        "colab": {
          "base_uri": "https://localhost:8080/",
          "height": 171
        },
        "outputId": "ff888878-6bc7-4f77-ff2c-89dab62cbf98"
      },
      "source": [
        "data.describe(include=['category'])"
      ],
      "execution_count": 209,
      "outputs": [
        {
          "output_type": "execute_result",
          "data": {
            "text/html": [
              "<div>\n",
              "<style scoped>\n",
              "    .dataframe tbody tr th:only-of-type {\n",
              "        vertical-align: middle;\n",
              "    }\n",
              "\n",
              "    .dataframe tbody tr th {\n",
              "        vertical-align: top;\n",
              "    }\n",
              "\n",
              "    .dataframe thead th {\n",
              "        text-align: right;\n",
              "    }\n",
              "</style>\n",
              "<table border=\"1\" class=\"dataframe\">\n",
              "  <thead>\n",
              "    <tr style=\"text-align: right;\">\n",
              "      <th></th>\n",
              "      <th>Gender</th>\n",
              "      <th>family_history_with_overweight</th>\n",
              "      <th>FAVC</th>\n",
              "      <th>CAEC</th>\n",
              "      <th>SMOKE</th>\n",
              "      <th>SCC</th>\n",
              "      <th>CALC</th>\n",
              "      <th>MTRANS</th>\n",
              "      <th>NObeyesdad</th>\n",
              "    </tr>\n",
              "  </thead>\n",
              "  <tbody>\n",
              "    <tr>\n",
              "      <th>count</th>\n",
              "      <td>2069</td>\n",
              "      <td>2069</td>\n",
              "      <td>2069</td>\n",
              "      <td>2069</td>\n",
              "      <td>2069</td>\n",
              "      <td>2069</td>\n",
              "      <td>2069</td>\n",
              "      <td>2069</td>\n",
              "      <td>2069</td>\n",
              "    </tr>\n",
              "    <tr>\n",
              "      <th>unique</th>\n",
              "      <td>2</td>\n",
              "      <td>2</td>\n",
              "      <td>2</td>\n",
              "      <td>4</td>\n",
              "      <td>2</td>\n",
              "      <td>2</td>\n",
              "      <td>4</td>\n",
              "      <td>5</td>\n",
              "      <td>7</td>\n",
              "    </tr>\n",
              "    <tr>\n",
              "      <th>top</th>\n",
              "      <td>Male</td>\n",
              "      <td>yes</td>\n",
              "      <td>yes</td>\n",
              "      <td>Sometimes</td>\n",
              "      <td>yes</td>\n",
              "      <td>no</td>\n",
              "      <td>Sometimes</td>\n",
              "      <td>Public_Transportation</td>\n",
              "      <td>Obesity_Type_I</td>\n",
              "    </tr>\n",
              "    <tr>\n",
              "      <th>freq</th>\n",
              "      <td>1056</td>\n",
              "      <td>1698</td>\n",
              "      <td>1830</td>\n",
              "      <td>1730</td>\n",
              "      <td>1830</td>\n",
              "      <td>1977</td>\n",
              "      <td>1365</td>\n",
              "      <td>1539</td>\n",
              "      <td>345</td>\n",
              "    </tr>\n",
              "  </tbody>\n",
              "</table>\n",
              "</div>"
            ],
            "text/plain": [
              "       Gender  ...      NObeyesdad\n",
              "count    2069  ...            2069\n",
              "unique      2  ...               7\n",
              "top      Male  ...  Obesity_Type_I\n",
              "freq     1056  ...             345\n",
              "\n",
              "[4 rows x 9 columns]"
            ]
          },
          "metadata": {
            "tags": []
          },
          "execution_count": 209
        }
      ]
    },
    {
      "cell_type": "markdown",
      "metadata": {
        "id": "dviB58AR5OkZ",
        "colab_type": "text"
      },
      "source": [
        "Давайте снова построим диаграмму рассеивания для признаков `'Weight'`, `'Height'`:"
      ]
    },
    {
      "cell_type": "code",
      "metadata": {
        "id": "zzO1R1qx5Okc",
        "colab_type": "code",
        "colab": {
          "base_uri": "https://localhost:8080/",
          "height": 265
        },
        "outputId": "c49c2462-9f70-4070-ed8b-72e3732f3f12"
      },
      "source": [
        "plt.scatter(data['Height'], data['Weight'], alpha=0.01)\n",
        "pass"
      ],
      "execution_count": 56,
      "outputs": [
        {
          "output_type": "display_data",
          "data": {
            "image/png": "[encoded data removed]",
            "text/plain": [
              "<Figure size 432x288 with 1 Axes>"
            ]
          },
          "metadata": {
            "tags": [],
            "needs_background": "light"
          }
        }
      ]
    },
    {
      "cell_type": "markdown",
      "metadata": {
        "id": "WnIPEIEn5Okl",
        "colab_type": "text"
      },
      "source": [
        "Точки выстроились по широкой полосе, идущей из нижнего левого угла в правый верхний: т.е. ожидается значимая корелляция между двумя признаками.\n",
        "\n",
        "Отрисовка всех точек требует много времени. Тем более, точки накладываются друг на друга и сложно понять сколько точек на том или ином участке графика (особенно, если не использовать параметр `alpha`). Поэтому изобразим только $1000$ случайных точек:"
      ]
    },
    {
      "cell_type": "code",
      "metadata": {
        "id": "DYDv9AfU5Okn",
        "colab_type": "code",
        "colab": {
          "base_uri": "https://localhost:8080/",
          "height": 279
        },
        "outputId": "655a9f78-5943-4333-af12-07efaef7cbb2"
      },
      "source": [
        "np.random.seed(40)\n",
        "random_subset = np.random.choice(np.arange(data.shape[0]), size=100, replace=False)\n",
        "plt.scatter(data.iloc[random_subset]['Height'], data.iloc[random_subset]['Weight'], alpha=0.4)\n",
        "plt.xlabel('Height')\n",
        "plt.ylabel('Weight')\n",
        "pass"
      ],
      "execution_count": 59,
      "outputs": [
        {
          "output_type": "display_data",
          "data": {
            "image/png": "[encoded data removed]",
            "text/plain": [
              "<Figure size 432x288 with 1 Axes>"
            ]
          },
          "metadata": {
            "tags": [],
            "needs_background": "light"
          }
        }
      ]
    },
    {
      "cell_type": "markdown",
      "metadata": {
        "id": "DyRFEHOt5Okv",
        "colab_type": "text"
      },
      "source": [
        "Построим диаграмму рассеивания для признаков `'Age'` и `'Weight'`:"
      ]
    },
    {
      "cell_type": "code",
      "metadata": {
        "id": "W6pvF56o5Oky",
        "colab_type": "code",
        "colab": {
          "base_uri": "https://localhost:8080/",
          "height": 279
        },
        "outputId": "3b0cf5c3-ba34-4de5-bcf0-fcbd454af71d"
      },
      "source": [
        "plt.scatter(data.iloc[random_subset]['Age'], data.iloc[random_subset]['Weight'], alpha = .3)\n",
        "plt.xlabel('Age')\n",
        "plt.ylabel('Weight')\n",
        "pass"
      ],
      "execution_count": null,
      "outputs": [
        {
          "output_type": "display_data",
          "data": {
            "image/png": "[encoded data removed]",
            "text/plain": [
              "<Figure size 432x288 with 1 Axes>"
            ]
          },
          "metadata": {
            "tags": [],
            "needs_background": "light"
          }
        }
      ]
    },
    {
      "cell_type": "markdown",
      "metadata": {
        "id": "_5C9ewdw5Ok4",
        "colab_type": "text"
      },
      "source": [
        "Из рисунка понятно, что, по-видимому, никакой зависимости между возрастом и весом нет.\n",
        "Однако видно, что точки сгущаются с уменьшением обоих значений, т.е. преобладают люди с небольшим весом и возрастом."
      ]
    },
    {
      "cell_type": "markdown",
      "metadata": {
        "id": "MFfyx5mx5Ok5",
        "colab_type": "text"
      },
      "source": [
        "Для отрисовки диаграммы рассеивания мы можем воспользоваться более продвинутой функцией `scatterplot` из модуля `seaborn`. Например, в следующей диаграмме цвет маркеров соответствует полу, а размер - весу:"
      ]
    },
    {
      "cell_type": "code",
      "metadata": {
        "id": "AXFatL-D5Ok6",
        "colab_type": "code",
        "colab": {
          "base_uri": "https://localhost:8080/",
          "height": 497
        },
        "outputId": "6c45294c-d67e-4626-ed30-5c1c4f1a451f"
      },
      "source": [
        "plt.figure(figsize = (10, 8))\n",
        "sns.scatterplot(x='Age', y='Height', size='NObeyesdad', hue='Gender', data=data.iloc[random_subset], alpha=0.7)\n",
        "pass"
      ],
      "execution_count": 253,
      "outputs": [
        {
          "output_type": "display_data",
          "data": {
            "image/png": "[encoded data removed]",
            "text/plain": [
              "<Figure size 720x576 with 1 Axes>"
            ]
          },
          "metadata": {
            "tags": [],
            "needs_background": "light"
          }
        }
      ]
    },
    {
      "cell_type": "markdown",
      "metadata": {
        "id": "u3Ph7m_E5OlE",
        "colab_type": "text"
      },
      "source": [
        "Мы видим, что в целом, мужчины весят больше, при этом избыточный вес у женщин больше встречается в узких возрастных границах около 21 и 26 лет."
      ]
    },
    {
      "cell_type": "code",
      "metadata": {
        "id": "xhGLexqN-TTB",
        "colab_type": "code",
        "colab": {
          "base_uri": "https://localhost:8080/",
          "height": 497
        },
        "outputId": "cf0bd033-76c7-4949-e799-5f5e4369f600"
      },
      "source": [
        "plt.figure(figsize = (10, 8))\n",
        "sns.scatterplot(x='Height', y='Weight', size='Gender', hue='NObeyesdad', data=data.iloc[random_subset], alpha=0.7)\n",
        "pass"
      ],
      "execution_count": 254,
      "outputs": [
        {
          "output_type": "display_data",
          "data": {
            "image/png": "[encoded data removed]",
            "text/plain": [
              "<Figure size 720x576 with 1 Axes>"
            ]
          },
          "metadata": {
            "tags": [],
            "needs_background": "light"
          }
        }
      ]
    },
    {
      "cell_type": "markdown",
      "metadata": {
        "id": "z_3tcpYC5OlE",
        "colab_type": "text"
      },
      "source": [
        "Построим все возможные диаграммы рассеивания для каждой пары переменных:"
      ]
    },
    {
      "cell_type": "code",
      "metadata": {
        "id": "x_kgVDB05OlF",
        "colab_type": "code",
        "colab": {
          "base_uri": "https://localhost:8080/",
          "height": 1000
        },
        "outputId": "4dcdd35e-236a-40e4-bb96-b40a18f2e381"
      },
      "source": [
        "sns.pairplot(data.iloc[random_subset], hue='Gender', diag_kind='hist')\n",
        "plt.legend()\n",
        "pass"
      ],
      "execution_count": 255,
      "outputs": [
        {
          "output_type": "display_data",
          "data": {
            "image/png": "[encoded data removed]",
            "text/plain": [
              "<Figure size 1512.12x1440 with 72 Axes>"
            ]
          },
          "metadata": {
            "tags": [],
            "needs_background": "light"
          }
        }
      ]
    },
    {
      "cell_type": "markdown",
      "metadata": {
        "id": "QdGsYwbl5OlP",
        "colab_type": "text"
      },
      "source": [
        "На диаграммах наблюдается существенная корреляция между `Height`, и `Weight`.\n",
        "\n",
        "На диагонали расположены гистограммы распределения признаков. Гистограммы можно построить отдельно."
      ]
    },
    {
      "cell_type": "markdown",
      "metadata": {
        "id": "nsDZeQeP5OlQ",
        "colab_type": "text"
      },
      "source": [
        "Построить гистограмму можно с помощю функции `plt.hist`, но мы воспользуемся `distplot` из библиотеки `seaborn`."
      ]
    },
    {
      "cell_type": "markdown",
      "metadata": {
        "id": "geh04bHf5OlZ",
        "colab_type": "text"
      },
      "source": [
        "Можно представить вместе и диаграмму рассеивания для пары признаков и соответствующие гистограммы:"
      ]
    },
    {
      "cell_type": "code",
      "metadata": {
        "id": "NhFZT38_5Ola",
        "colab_type": "code",
        "colab": {
          "base_uri": "https://localhost:8080/",
          "height": 441
        },
        "outputId": "fd470074-dc16-4378-befe-502ad62d0591"
      },
      "source": [
        "sns.jointplot(x='Height', y='Weight', alpha=.05, data=data)\n",
        "pass"
      ],
      "execution_count": 64,
      "outputs": [
        {
          "output_type": "display_data",
          "data": {
            "image/png": "[encoded data removed]",
            "text/plain": [
              "<Figure size 432x432 with 3 Axes>"
            ]
          },
          "metadata": {
            "tags": [],
            "needs_background": "light"
          }
        }
      ]
    },
    {
      "cell_type": "code",
      "metadata": {
        "id": "kIrxMjyL5Olf",
        "colab_type": "code",
        "colab": {
          "base_uri": "https://localhost:8080/",
          "height": 279
        },
        "outputId": "d0bc544f-3cd2-400d-ce83-ef6a427f6559"
      },
      "source": [
        "sns.distplot(data['Height'], bins = 15)\n",
        "pass"
      ],
      "execution_count": 66,
      "outputs": [
        {
          "output_type": "display_data",
          "data": {
            "image/png": "[encoded data removed]",
            "text/plain": [
              "<Figure size 432x288 with 1 Axes>"
            ]
          },
          "metadata": {
            "tags": [],
            "needs_background": "light"
          }
        }
      ]
    },
    {
      "cell_type": "code",
      "metadata": {
        "id": "BiA5vJ915Olu",
        "colab_type": "code",
        "colab": {
          "base_uri": "https://localhost:8080/",
          "height": 279
        },
        "outputId": "e0f0fe4f-408a-4bde-91f5-eaf81ebef2b2"
      },
      "source": [
        "sns.distplot(data['Weight'], bins = 15)\n",
        "pass"
      ],
      "execution_count": 67,
      "outputs": [
        {
          "output_type": "display_data",
          "data": {
            "image/png": "[encoded data removed]",
            "text/plain": [
              "<Figure size 432x288 with 1 Axes>"
            ]
          },
          "metadata": {
            "tags": [],
            "needs_background": "light"
          }
        }
      ]
    },
    {
      "cell_type": "markdown",
      "metadata": {
        "id": "gG3RLCeG5Ol8",
        "colab_type": "text"
      },
      "source": [
        "*Ящик с усами* (*бокс-диаграмма*) - это один из возможных способов визуального представления распределения. Нижний и верхний концы ящика соответствуют 1-му и 3-му квартилям (25% и 75% квантилям соответственно), а горизонтальная линия внутри ящика - медиане. Верхний ус продолжается вверх вплоть до максимального значения, но не выше 1.5 межквартильного расстояния от верхней кромки ящика. Аналогично нижний ус - продолжается вниз до минимального значения, но не ниже 1.5 межквартильных расстояний от нижней кромки ящика. На концах усов ставятся небольшие зарубки. За пределами усов значения изображаются в виде отдельных точек - эти значения можно считать выбросами."
      ]
    },
    {
      "cell_type": "code",
      "metadata": {
        "id": "J5wuo3Zj5Ol9",
        "colab_type": "code",
        "colab": {
          "base_uri": "https://localhost:8080/",
          "height": 279
        },
        "outputId": "6b63d99b-12c9-4852-8270-184dd92d380e"
      },
      "source": [
        "sns.boxplot(x=\"Age\", y=\"MTRANS\", data=data)\n",
        "pass"
      ],
      "execution_count": null,
      "outputs": [
        {
          "output_type": "display_data",
          "data": {
            "image/png": "[encoded data removed]",
            "text/plain": [
              "<Figure size 432x288 with 1 Axes>"
            ]
          },
          "metadata": {
            "tags": [],
            "needs_background": "light"
          }
        }
      ]
    },
    {
      "cell_type": "code",
      "metadata": {
        "id": "knHuOP7N5OmB",
        "colab_type": "code",
        "colab": {
          "base_uri": "https://localhost:8080/",
          "height": 279
        },
        "outputId": "3870d4bb-fb9b-4b5b-b5eb-5206f0590f83"
      },
      "source": [
        "sns.boxplot(x=\"Age\", y=\"NObeyesdad\", data=data)\n",
        "pass"
      ],
      "execution_count": 257,
      "outputs": [
        {
          "output_type": "display_data",
          "data": {
            "image/png": "[encoded data removed]",
            "text/plain": [
              "<Figure size 432x288 with 1 Axes>"
            ]
          },
          "metadata": {
            "tags": [],
            "needs_background": "light"
          }
        }
      ]
    },
    {
      "cell_type": "markdown",
      "metadata": {
        "id": "PsVRAJ6e5OmK",
        "colab_type": "text"
      },
      "source": [
        "Также информацию о характере распределения можно получить из *скрипичных графиков* (violin plots). В этом случае изображают графики аппроксимации плотности вероятности."
      ]
    },
    {
      "cell_type": "code",
      "metadata": {
        "id": "0kCaKCle5OmL",
        "colab_type": "code",
        "colab": {
          "base_uri": "https://localhost:8080/",
          "height": 279
        },
        "outputId": "557efabb-b712-4bad-e59e-4f57d5c4baa0"
      },
      "source": [
        "sns.violinplot(x=\"Age\", y=\"NObeyesdad\", data=data)\n",
        "pass"
      ],
      "execution_count": 256,
      "outputs": [
        {
          "output_type": "display_data",
          "data": {
            "image/png": "[encoded data removed]",
            "text/plain": [
              "<Figure size 432x288 with 1 Axes>"
            ]
          },
          "metadata": {
            "tags": [],
            "needs_background": "light"
          }
        }
      ]
    },
    {
      "cell_type": "markdown",
      "metadata": {
        "id": "xlV0OyAL5OmQ",
        "colab_type": "text"
      },
      "source": [
        "Можно вычислить матрицу корреляции для количественных признаков:"
      ]
    },
    {
      "cell_type": "code",
      "metadata": {
        "id": "ZGI9pTrU5OmR",
        "colab_type": "code",
        "colab": {
          "base_uri": "https://localhost:8080/",
          "height": 294
        },
        "outputId": "2e9cda33-723c-46bd-9075-a0145f1c3239"
      },
      "source": [
        "corr_mat = data.corr()\n",
        "corr_mat"
      ],
      "execution_count": 258,
      "outputs": [
        {
          "output_type": "execute_result",
          "data": {
            "text/html": [
              "<div>\n",
              "<style scoped>\n",
              "    .dataframe tbody tr th:only-of-type {\n",
              "        vertical-align: middle;\n",
              "    }\n",
              "\n",
              "    .dataframe tbody tr th {\n",
              "        vertical-align: top;\n",
              "    }\n",
              "\n",
              "    .dataframe thead th {\n",
              "        text-align: right;\n",
              "    }\n",
              "</style>\n",
              "<table border=\"1\" class=\"dataframe\">\n",
              "  <thead>\n",
              "    <tr style=\"text-align: right;\">\n",
              "      <th></th>\n",
              "      <th>Age</th>\n",
              "      <th>Height</th>\n",
              "      <th>Weight</th>\n",
              "      <th>FCVC</th>\n",
              "      <th>NCP</th>\n",
              "      <th>CH2O</th>\n",
              "      <th>FAF</th>\n",
              "      <th>TUE</th>\n",
              "    </tr>\n",
              "  </thead>\n",
              "  <tbody>\n",
              "    <tr>\n",
              "      <th>Age</th>\n",
              "      <td>1.000000</td>\n",
              "      <td>-0.034365</td>\n",
              "      <td>0.210495</td>\n",
              "      <td>0.013864</td>\n",
              "      <td>-0.045316</td>\n",
              "      <td>-0.046361</td>\n",
              "      <td>-0.146753</td>\n",
              "      <td>-0.290488</td>\n",
              "    </tr>\n",
              "    <tr>\n",
              "      <th>Height</th>\n",
              "      <td>-0.034365</td>\n",
              "      <td>1.000000</td>\n",
              "      <td>0.437817</td>\n",
              "      <td>-0.056953</td>\n",
              "      <td>0.240704</td>\n",
              "      <td>0.199533</td>\n",
              "      <td>0.299169</td>\n",
              "      <td>0.071507</td>\n",
              "    </tr>\n",
              "    <tr>\n",
              "      <th>Weight</th>\n",
              "      <td>0.210495</td>\n",
              "      <td>0.437817</td>\n",
              "      <td>1.000000</td>\n",
              "      <td>0.200464</td>\n",
              "      <td>0.095439</td>\n",
              "      <td>0.188638</td>\n",
              "      <td>-0.063280</td>\n",
              "      <td>-0.062779</td>\n",
              "    </tr>\n",
              "    <tr>\n",
              "      <th>FCVC</th>\n",
              "      <td>0.013864</td>\n",
              "      <td>-0.056953</td>\n",
              "      <td>0.200464</td>\n",
              "      <td>1.000000</td>\n",
              "      <td>0.033772</td>\n",
              "      <td>0.063868</td>\n",
              "      <td>0.019332</td>\n",
              "      <td>-0.090824</td>\n",
              "    </tr>\n",
              "    <tr>\n",
              "      <th>NCP</th>\n",
              "      <td>-0.045316</td>\n",
              "      <td>0.240704</td>\n",
              "      <td>0.095439</td>\n",
              "      <td>0.033772</td>\n",
              "      <td>1.000000</td>\n",
              "      <td>0.045338</td>\n",
              "      <td>0.121994</td>\n",
              "      <td>0.041428</td>\n",
              "    </tr>\n",
              "    <tr>\n",
              "      <th>CH2O</th>\n",
              "      <td>-0.046361</td>\n",
              "      <td>0.199533</td>\n",
              "      <td>0.188638</td>\n",
              "      <td>0.063868</td>\n",
              "      <td>0.045338</td>\n",
              "      <td>1.000000</td>\n",
              "      <td>0.163394</td>\n",
              "      <td>0.013060</td>\n",
              "    </tr>\n",
              "    <tr>\n",
              "      <th>FAF</th>\n",
              "      <td>-0.146753</td>\n",
              "      <td>0.299169</td>\n",
              "      <td>-0.063280</td>\n",
              "      <td>0.019332</td>\n",
              "      <td>0.121994</td>\n",
              "      <td>0.163394</td>\n",
              "      <td>1.000000</td>\n",
              "      <td>0.058381</td>\n",
              "    </tr>\n",
              "    <tr>\n",
              "      <th>TUE</th>\n",
              "      <td>-0.290488</td>\n",
              "      <td>0.071507</td>\n",
              "      <td>-0.062779</td>\n",
              "      <td>-0.090824</td>\n",
              "      <td>0.041428</td>\n",
              "      <td>0.013060</td>\n",
              "      <td>0.058381</td>\n",
              "      <td>1.000000</td>\n",
              "    </tr>\n",
              "  </tbody>\n",
              "</table>\n",
              "</div>"
            ],
            "text/plain": [
              "             Age    Height    Weight  ...      CH2O       FAF       TUE\n",
              "Age     1.000000 -0.034365  0.210495  ... -0.046361 -0.146753 -0.290488\n",
              "Height -0.034365  1.000000  0.437817  ...  0.199533  0.299169  0.071507\n",
              "Weight  0.210495  0.437817  1.000000  ...  0.188638 -0.063280 -0.062779\n",
              "FCVC    0.013864 -0.056953  0.200464  ...  0.063868  0.019332 -0.090824\n",
              "NCP    -0.045316  0.240704  0.095439  ...  0.045338  0.121994  0.041428\n",
              "CH2O   -0.046361  0.199533  0.188638  ...  1.000000  0.163394  0.013060\n",
              "FAF    -0.146753  0.299169 -0.063280  ...  0.163394  1.000000  0.058381\n",
              "TUE    -0.290488  0.071507 -0.062779  ...  0.013060  0.058381  1.000000\n",
              "\n",
              "[8 rows x 8 columns]"
            ]
          },
          "metadata": {
            "tags": []
          },
          "execution_count": 258
        }
      ]
    },
    {
      "cell_type": "markdown",
      "metadata": {
        "id": "v0X-RZ335Omb",
        "colab_type": "text"
      },
      "source": [
        "Удобно использовать визуальный образ этой матрицы. Чем светлее ячейка, тем больше по абсолютной величине коэффициент корреляции:"
      ]
    },
    {
      "cell_type": "code",
      "metadata": {
        "id": "iudFABzj5Omc",
        "colab_type": "code",
        "colab": {
          "base_uri": "https://localhost:8080/",
          "height": 294
        },
        "outputId": "b4982da7-eb23-4669-d126-9cada238f706"
      },
      "source": [
        "sns.heatmap(corr_mat, square=True, cmap='coolwarm')\n",
        "pass"
      ],
      "execution_count": 259,
      "outputs": [
        {
          "output_type": "display_data",
          "data": {
            "image/png": "[encoded data removed]",
            "text/plain": [
              "<Figure size 432x288 with 2 Axes>"
            ]
          },
          "metadata": {
            "tags": [],
            "needs_background": "light"
          }
        }
      ]
    },
    {
      "cell_type": "markdown",
      "metadata": {
        "id": "k1mYmbDE5Omj",
        "colab_type": "text"
      },
      "source": [
        "Выведем коэффициенты корреляции, большие заданного значения:"
      ]
    },
    {
      "cell_type": "code",
      "metadata": {
        "id": "fSoLPZBb5Omk",
        "colab_type": "code",
        "colab": {
          "base_uri": "https://localhost:8080/",
          "height": 294
        },
        "outputId": "ccb9c597-0ca3-4552-81e0-e02c01110fbb"
      },
      "source": [
        "corr_mat > 0.4"
      ],
      "execution_count": 71,
      "outputs": [
        {
          "output_type": "execute_result",
          "data": {
            "text/html": [
              "<div>\n",
              "<style scoped>\n",
              "    .dataframe tbody tr th:only-of-type {\n",
              "        vertical-align: middle;\n",
              "    }\n",
              "\n",
              "    .dataframe tbody tr th {\n",
              "        vertical-align: top;\n",
              "    }\n",
              "\n",
              "    .dataframe thead th {\n",
              "        text-align: right;\n",
              "    }\n",
              "</style>\n",
              "<table border=\"1\" class=\"dataframe\">\n",
              "  <thead>\n",
              "    <tr style=\"text-align: right;\">\n",
              "      <th></th>\n",
              "      <th>Age</th>\n",
              "      <th>Height</th>\n",
              "      <th>Weight</th>\n",
              "      <th>FCVC</th>\n",
              "      <th>NCP</th>\n",
              "      <th>CH2O</th>\n",
              "      <th>FAF</th>\n",
              "      <th>TUE</th>\n",
              "    </tr>\n",
              "  </thead>\n",
              "  <tbody>\n",
              "    <tr>\n",
              "      <th>Age</th>\n",
              "      <td>True</td>\n",
              "      <td>False</td>\n",
              "      <td>False</td>\n",
              "      <td>False</td>\n",
              "      <td>False</td>\n",
              "      <td>False</td>\n",
              "      <td>False</td>\n",
              "      <td>False</td>\n",
              "    </tr>\n",
              "    <tr>\n",
              "      <th>Height</th>\n",
              "      <td>False</td>\n",
              "      <td>True</td>\n",
              "      <td>True</td>\n",
              "      <td>False</td>\n",
              "      <td>False</td>\n",
              "      <td>False</td>\n",
              "      <td>False</td>\n",
              "      <td>False</td>\n",
              "    </tr>\n",
              "    <tr>\n",
              "      <th>Weight</th>\n",
              "      <td>False</td>\n",
              "      <td>True</td>\n",
              "      <td>True</td>\n",
              "      <td>False</td>\n",
              "      <td>False</td>\n",
              "      <td>False</td>\n",
              "      <td>False</td>\n",
              "      <td>False</td>\n",
              "    </tr>\n",
              "    <tr>\n",
              "      <th>FCVC</th>\n",
              "      <td>False</td>\n",
              "      <td>False</td>\n",
              "      <td>False</td>\n",
              "      <td>True</td>\n",
              "      <td>False</td>\n",
              "      <td>False</td>\n",
              "      <td>False</td>\n",
              "      <td>False</td>\n",
              "    </tr>\n",
              "    <tr>\n",
              "      <th>NCP</th>\n",
              "      <td>False</td>\n",
              "      <td>False</td>\n",
              "      <td>False</td>\n",
              "      <td>False</td>\n",
              "      <td>True</td>\n",
              "      <td>False</td>\n",
              "      <td>False</td>\n",
              "      <td>False</td>\n",
              "    </tr>\n",
              "    <tr>\n",
              "      <th>CH2O</th>\n",
              "      <td>False</td>\n",
              "      <td>False</td>\n",
              "      <td>False</td>\n",
              "      <td>False</td>\n",
              "      <td>False</td>\n",
              "      <td>True</td>\n",
              "      <td>False</td>\n",
              "      <td>False</td>\n",
              "    </tr>\n",
              "    <tr>\n",
              "      <th>FAF</th>\n",
              "      <td>False</td>\n",
              "      <td>False</td>\n",
              "      <td>False</td>\n",
              "      <td>False</td>\n",
              "      <td>False</td>\n",
              "      <td>False</td>\n",
              "      <td>True</td>\n",
              "      <td>False</td>\n",
              "    </tr>\n",
              "    <tr>\n",
              "      <th>TUE</th>\n",
              "      <td>False</td>\n",
              "      <td>False</td>\n",
              "      <td>False</td>\n",
              "      <td>False</td>\n",
              "      <td>False</td>\n",
              "      <td>False</td>\n",
              "      <td>False</td>\n",
              "      <td>True</td>\n",
              "    </tr>\n",
              "  </tbody>\n",
              "</table>\n",
              "</div>"
            ],
            "text/plain": [
              "          Age  Height  Weight   FCVC    NCP   CH2O    FAF    TUE\n",
              "Age      True   False   False  False  False  False  False  False\n",
              "Height  False    True    True  False  False  False  False  False\n",
              "Weight  False    True    True  False  False  False  False  False\n",
              "FCVC    False   False   False   True  False  False  False  False\n",
              "NCP     False   False   False  False   True  False  False  False\n",
              "CH2O    False   False   False  False  False   True  False  False\n",
              "FAF     False   False   False  False  False  False   True  False\n",
              "TUE     False   False   False  False  False  False  False   True"
            ]
          },
          "metadata": {
            "tags": []
          },
          "execution_count": 71
        }
      ]
    },
    {
      "cell_type": "code",
      "metadata": {
        "id": "6j7GbWyY5Omr",
        "colab_type": "code",
        "colab": {
          "base_uri": "https://localhost:8080/",
          "height": 52
        },
        "outputId": "57602be0-5626-41b7-a46f-be5b0d3085b3"
      },
      "source": [
        "corr_mat.where(np.triu(corr_mat > 0.4, k=1)).stack().sort_values(ascending=False)"
      ],
      "execution_count": 73,
      "outputs": [
        {
          "output_type": "execute_result",
          "data": {
            "text/plain": [
              "Height  Weight    0.437817\n",
              "dtype: float64"
            ]
          },
          "metadata": {
            "tags": []
          },
          "execution_count": 73
        }
      ]
    },
    {
      "cell_type": "markdown",
      "metadata": {
        "id": "RQG8tWLL5Omx",
        "colab_type": "text"
      },
      "source": [
        "Значимое значение этого коэффициента вполне объяснимо.\n",
        "\n",
        "Обратите внимание на небольшую корреляцию между возрастом и весом, а также отрицательное, хотя небольшой по модулю значение корелляции между возрастом и ростом (возрастная деградация позвоночника)"
      ]
    },
    {
      "cell_type": "code",
      "metadata": {
        "id": "aYO6J3ju5Omy",
        "colab_type": "code",
        "colab": {
          "base_uri": "https://localhost:8080/",
          "height": 35
        },
        "outputId": "48546f97-5cb4-4d1e-f285-cf39c162b253"
      },
      "source": [
        "corr_mat.loc['Age', 'Weight'], corr_mat.loc['Age', 'Height']"
      ],
      "execution_count": null,
      "outputs": [
        {
          "output_type": "execute_result",
          "data": {
            "text/plain": [
              "(0.2276335722394115, -0.033266966319085045)"
            ]
          },
          "metadata": {
            "tags": []
          },
          "execution_count": 129
        }
      ]
    },
    {
      "cell_type": "markdown",
      "metadata": {
        "id": "E-j-MXTR5Om6",
        "colab_type": "text"
      },
      "source": [
        "Также обратите внимание, что коэффициент корреляции между возрастом и привычкой употребления овощей практически равен нулю"
      ]
    },
    {
      "cell_type": "code",
      "metadata": {
        "id": "KKlg2ICu5Om7",
        "colab_type": "code",
        "colab": {
          "base_uri": "https://localhost:8080/",
          "height": 35
        },
        "outputId": "6fbe26e3-14d7-43de-c96f-7f5efa611689"
      },
      "source": [
        "corr_mat.loc['Age', 'FCVC']"
      ],
      "execution_count": 74,
      "outputs": [
        {
          "output_type": "execute_result",
          "data": {
            "text/plain": [
              "0.013864276548922567"
            ]
          },
          "metadata": {
            "tags": []
          },
          "execution_count": 74
        }
      ]
    },
    {
      "cell_type": "markdown",
      "metadata": {
        "id": "ayJbMWrZ5OnB",
        "colab_type": "text"
      },
      "source": [
        "Например, выберем все данные, соответствующие женщинам до 30 лет"
      ]
    },
    {
      "cell_type": "code",
      "metadata": {
        "id": "fEutomFP5OnD",
        "colab_type": "code",
        "colab": {
          "base_uri": "https://localhost:8080/",
          "height": 435
        },
        "outputId": "582cc9cb-aa4c-41c7-ec59-876de1b00b1c"
      },
      "source": [
        "data.loc[(data['Gender']=='Female') & (data['Age'] <= 30), :]"
      ],
      "execution_count": null,
      "outputs": [
        {
          "output_type": "execute_result",
          "data": {
            "text/html": [
              "<div>\n",
              "<style scoped>\n",
              "    .dataframe tbody tr th:only-of-type {\n",
              "        vertical-align: middle;\n",
              "    }\n",
              "\n",
              "    .dataframe tbody tr th {\n",
              "        vertical-align: top;\n",
              "    }\n",
              "\n",
              "    .dataframe thead th {\n",
              "        text-align: right;\n",
              "    }\n",
              "</style>\n",
              "<table border=\"1\" class=\"dataframe\">\n",
              "  <thead>\n",
              "    <tr style=\"text-align: right;\">\n",
              "      <th></th>\n",
              "      <th>Gender</th>\n",
              "      <th>Age</th>\n",
              "      <th>Height</th>\n",
              "      <th>Weight</th>\n",
              "      <th>family_history_with_overweight</th>\n",
              "      <th>FAVC</th>\n",
              "      <th>FCVC</th>\n",
              "      <th>NCP</th>\n",
              "      <th>CAEC</th>\n",
              "      <th>SMOKE</th>\n",
              "      <th>CH2O</th>\n",
              "      <th>SCC</th>\n",
              "      <th>FAF</th>\n",
              "      <th>TUE</th>\n",
              "      <th>CALC</th>\n",
              "      <th>MTRANS</th>\n",
              "      <th>NObeyesdad</th>\n",
              "    </tr>\n",
              "  </thead>\n",
              "  <tbody>\n",
              "    <tr>\n",
              "      <th>0</th>\n",
              "      <td>Female</td>\n",
              "      <td>21.000000</td>\n",
              "      <td>1.620000</td>\n",
              "      <td>64.000000</td>\n",
              "      <td>yes</td>\n",
              "      <td>no</td>\n",
              "      <td>2.0</td>\n",
              "      <td>3.0</td>\n",
              "      <td>Sometimes</td>\n",
              "      <td>no</td>\n",
              "      <td>2.000000</td>\n",
              "      <td>no</td>\n",
              "      <td>0.000000</td>\n",
              "      <td>1.000000</td>\n",
              "      <td>no</td>\n",
              "      <td>Public_Transportation</td>\n",
              "      <td>Normal_Weight</td>\n",
              "    </tr>\n",
              "    <tr>\n",
              "      <th>1</th>\n",
              "      <td>Female</td>\n",
              "      <td>21.000000</td>\n",
              "      <td>1.520000</td>\n",
              "      <td>56.000000</td>\n",
              "      <td>yes</td>\n",
              "      <td>no</td>\n",
              "      <td>3.0</td>\n",
              "      <td>3.0</td>\n",
              "      <td>Sometimes</td>\n",
              "      <td>yes</td>\n",
              "      <td>3.000000</td>\n",
              "      <td>yes</td>\n",
              "      <td>3.000000</td>\n",
              "      <td>0.000000</td>\n",
              "      <td>Sometimes</td>\n",
              "      <td>Public_Transportation</td>\n",
              "      <td>Normal_Weight</td>\n",
              "    </tr>\n",
              "    <tr>\n",
              "      <th>6</th>\n",
              "      <td>Female</td>\n",
              "      <td>23.000000</td>\n",
              "      <td>1.500000</td>\n",
              "      <td>55.000000</td>\n",
              "      <td>yes</td>\n",
              "      <td>yes</td>\n",
              "      <td>3.0</td>\n",
              "      <td>3.0</td>\n",
              "      <td>Sometimes</td>\n",
              "      <td>no</td>\n",
              "      <td>2.000000</td>\n",
              "      <td>no</td>\n",
              "      <td>1.000000</td>\n",
              "      <td>0.000000</td>\n",
              "      <td>Sometimes</td>\n",
              "      <td>Motorbike</td>\n",
              "      <td>Normal_Weight</td>\n",
              "    </tr>\n",
              "    <tr>\n",
              "      <th>11</th>\n",
              "      <td>Female</td>\n",
              "      <td>21.000000</td>\n",
              "      <td>1.720000</td>\n",
              "      <td>80.000000</td>\n",
              "      <td>yes</td>\n",
              "      <td>yes</td>\n",
              "      <td>2.0</td>\n",
              "      <td>3.0</td>\n",
              "      <td>Frequently</td>\n",
              "      <td>no</td>\n",
              "      <td>2.000000</td>\n",
              "      <td>yes</td>\n",
              "      <td>2.000000</td>\n",
              "      <td>1.000000</td>\n",
              "      <td>Sometimes</td>\n",
              "      <td>Public_Transportation</td>\n",
              "      <td>Overweight_Level_II</td>\n",
              "    </tr>\n",
              "    <tr>\n",
              "      <th>15</th>\n",
              "      <td>Female</td>\n",
              "      <td>22.000000</td>\n",
              "      <td>1.700000</td>\n",
              "      <td>66.000000</td>\n",
              "      <td>yes</td>\n",
              "      <td>no</td>\n",
              "      <td>3.0</td>\n",
              "      <td>3.0</td>\n",
              "      <td>Always</td>\n",
              "      <td>no</td>\n",
              "      <td>2.000000</td>\n",
              "      <td>yes</td>\n",
              "      <td>2.000000</td>\n",
              "      <td>1.000000</td>\n",
              "      <td>Sometimes</td>\n",
              "      <td>Public_Transportation</td>\n",
              "      <td>Normal_Weight</td>\n",
              "    </tr>\n",
              "    <tr>\n",
              "      <th>...</th>\n",
              "      <td>...</td>\n",
              "      <td>...</td>\n",
              "      <td>...</td>\n",
              "      <td>...</td>\n",
              "      <td>...</td>\n",
              "      <td>...</td>\n",
              "      <td>...</td>\n",
              "      <td>...</td>\n",
              "      <td>...</td>\n",
              "      <td>...</td>\n",
              "      <td>...</td>\n",
              "      <td>...</td>\n",
              "      <td>...</td>\n",
              "      <td>...</td>\n",
              "      <td>...</td>\n",
              "      <td>...</td>\n",
              "      <td>...</td>\n",
              "    </tr>\n",
              "    <tr>\n",
              "      <th>2106</th>\n",
              "      <td>Female</td>\n",
              "      <td>20.976842</td>\n",
              "      <td>1.710730</td>\n",
              "      <td>131.408528</td>\n",
              "      <td>yes</td>\n",
              "      <td>yes</td>\n",
              "      <td>3.0</td>\n",
              "      <td>3.0</td>\n",
              "      <td>Sometimes</td>\n",
              "      <td>no</td>\n",
              "      <td>1.728139</td>\n",
              "      <td>no</td>\n",
              "      <td>1.676269</td>\n",
              "      <td>0.906247</td>\n",
              "      <td>Sometimes</td>\n",
              "      <td>Public_Transportation</td>\n",
              "      <td>Obesity_Type_III</td>\n",
              "    </tr>\n",
              "    <tr>\n",
              "      <th>2107</th>\n",
              "      <td>Female</td>\n",
              "      <td>21.982942</td>\n",
              "      <td>1.748584</td>\n",
              "      <td>133.742943</td>\n",
              "      <td>yes</td>\n",
              "      <td>yes</td>\n",
              "      <td>3.0</td>\n",
              "      <td>3.0</td>\n",
              "      <td>Sometimes</td>\n",
              "      <td>no</td>\n",
              "      <td>2.005130</td>\n",
              "      <td>no</td>\n",
              "      <td>1.341390</td>\n",
              "      <td>0.599270</td>\n",
              "      <td>Sometimes</td>\n",
              "      <td>Public_Transportation</td>\n",
              "      <td>Obesity_Type_III</td>\n",
              "    </tr>\n",
              "    <tr>\n",
              "      <th>2108</th>\n",
              "      <td>Female</td>\n",
              "      <td>22.524036</td>\n",
              "      <td>1.752206</td>\n",
              "      <td>133.689352</td>\n",
              "      <td>yes</td>\n",
              "      <td>yes</td>\n",
              "      <td>3.0</td>\n",
              "      <td>3.0</td>\n",
              "      <td>Sometimes</td>\n",
              "      <td>no</td>\n",
              "      <td>2.054193</td>\n",
              "      <td>no</td>\n",
              "      <td>1.414209</td>\n",
              "      <td>0.646288</td>\n",
              "      <td>Sometimes</td>\n",
              "      <td>Public_Transportation</td>\n",
              "      <td>Obesity_Type_III</td>\n",
              "    </tr>\n",
              "    <tr>\n",
              "      <th>2109</th>\n",
              "      <td>Female</td>\n",
              "      <td>24.361936</td>\n",
              "      <td>1.739450</td>\n",
              "      <td>133.346641</td>\n",
              "      <td>yes</td>\n",
              "      <td>yes</td>\n",
              "      <td>3.0</td>\n",
              "      <td>3.0</td>\n",
              "      <td>Sometimes</td>\n",
              "      <td>no</td>\n",
              "      <td>2.852339</td>\n",
              "      <td>no</td>\n",
              "      <td>1.139107</td>\n",
              "      <td>0.586035</td>\n",
              "      <td>Sometimes</td>\n",
              "      <td>Public_Transportation</td>\n",
              "      <td>Obesity_Type_III</td>\n",
              "    </tr>\n",
              "    <tr>\n",
              "      <th>2110</th>\n",
              "      <td>Female</td>\n",
              "      <td>23.664709</td>\n",
              "      <td>1.738836</td>\n",
              "      <td>133.472641</td>\n",
              "      <td>yes</td>\n",
              "      <td>yes</td>\n",
              "      <td>3.0</td>\n",
              "      <td>3.0</td>\n",
              "      <td>Sometimes</td>\n",
              "      <td>no</td>\n",
              "      <td>2.863513</td>\n",
              "      <td>no</td>\n",
              "      <td>1.026452</td>\n",
              "      <td>0.714137</td>\n",
              "      <td>Sometimes</td>\n",
              "      <td>Public_Transportation</td>\n",
              "      <td>Obesity_Type_III</td>\n",
              "    </tr>\n",
              "  </tbody>\n",
              "</table>\n",
              "<p>870 rows × 17 columns</p>\n",
              "</div>"
            ],
            "text/plain": [
              "      Gender        Age  ...                 MTRANS           NObeyesdad\n",
              "0     Female  21.000000  ...  Public_Transportation        Normal_Weight\n",
              "1     Female  21.000000  ...  Public_Transportation        Normal_Weight\n",
              "6     Female  23.000000  ...              Motorbike        Normal_Weight\n",
              "11    Female  21.000000  ...  Public_Transportation  Overweight_Level_II\n",
              "15    Female  22.000000  ...  Public_Transportation        Normal_Weight\n",
              "...      ...        ...  ...                    ...                  ...\n",
              "2106  Female  20.976842  ...  Public_Transportation     Obesity_Type_III\n",
              "2107  Female  21.982942  ...  Public_Transportation     Obesity_Type_III\n",
              "2108  Female  22.524036  ...  Public_Transportation     Obesity_Type_III\n",
              "2109  Female  24.361936  ...  Public_Transportation     Obesity_Type_III\n",
              "2110  Female  23.664709  ...  Public_Transportation     Obesity_Type_III\n",
              "\n",
              "[870 rows x 17 columns]"
            ]
          },
          "metadata": {
            "tags": []
          },
          "execution_count": 137
        }
      ]
    },
    {
      "cell_type": "markdown",
      "metadata": {
        "id": "Pqu1aFyh5OnK",
        "colab_type": "text"
      },
      "source": [
        "Или все данные, соответствующие курящим тридцатилетним людям"
      ]
    },
    {
      "cell_type": "code",
      "metadata": {
        "id": "QIyKDx7n5OnL",
        "colab_type": "code",
        "colab": {
          "base_uri": "https://localhost:8080/",
          "height": 161
        },
        "outputId": "2c9acb5d-ca91-4ffe-ce08-4ec4a28cd658"
      },
      "source": [
        "data.loc[(data['Age']==30) & (data['SMOKE']=='yes'), :]"
      ],
      "execution_count": null,
      "outputs": [
        {
          "output_type": "execute_result",
          "data": {
            "text/html": [
              "<div>\n",
              "<style scoped>\n",
              "    .dataframe tbody tr th:only-of-type {\n",
              "        vertical-align: middle;\n",
              "    }\n",
              "\n",
              "    .dataframe tbody tr th {\n",
              "        vertical-align: top;\n",
              "    }\n",
              "\n",
              "    .dataframe thead th {\n",
              "        text-align: right;\n",
              "    }\n",
              "</style>\n",
              "<table border=\"1\" class=\"dataframe\">\n",
              "  <thead>\n",
              "    <tr style=\"text-align: right;\">\n",
              "      <th></th>\n",
              "      <th>Gender</th>\n",
              "      <th>Age</th>\n",
              "      <th>Height</th>\n",
              "      <th>Weight</th>\n",
              "      <th>family_history_with_overweight</th>\n",
              "      <th>FAVC</th>\n",
              "      <th>FCVC</th>\n",
              "      <th>NCP</th>\n",
              "      <th>CAEC</th>\n",
              "      <th>SMOKE</th>\n",
              "      <th>CH2O</th>\n",
              "      <th>SCC</th>\n",
              "      <th>FAF</th>\n",
              "      <th>TUE</th>\n",
              "      <th>CALC</th>\n",
              "      <th>MTRANS</th>\n",
              "      <th>NObeyesdad</th>\n",
              "    </tr>\n",
              "  </thead>\n",
              "  <tbody>\n",
              "    <tr>\n",
              "      <th>18</th>\n",
              "      <td>Female</td>\n",
              "      <td>30.0</td>\n",
              "      <td>1.71</td>\n",
              "      <td>82.0</td>\n",
              "      <td>yes</td>\n",
              "      <td>yes</td>\n",
              "      <td>3.0</td>\n",
              "      <td>4.0</td>\n",
              "      <td>Frequently</td>\n",
              "      <td>yes</td>\n",
              "      <td>1.0</td>\n",
              "      <td>no</td>\n",
              "      <td>0.0</td>\n",
              "      <td>0.0</td>\n",
              "      <td>no</td>\n",
              "      <td>Automobile</td>\n",
              "      <td>Overweight_Level_II</td>\n",
              "    </tr>\n",
              "    <tr>\n",
              "      <th>68</th>\n",
              "      <td>Male</td>\n",
              "      <td>30.0</td>\n",
              "      <td>1.76</td>\n",
              "      <td>112.0</td>\n",
              "      <td>yes</td>\n",
              "      <td>yes</td>\n",
              "      <td>1.0</td>\n",
              "      <td>3.0</td>\n",
              "      <td>no</td>\n",
              "      <td>yes</td>\n",
              "      <td>2.0</td>\n",
              "      <td>yes</td>\n",
              "      <td>0.0</td>\n",
              "      <td>0.0</td>\n",
              "      <td>Frequently</td>\n",
              "      <td>Automobile</td>\n",
              "      <td>Obesity_Type_II</td>\n",
              "    </tr>\n",
              "    <tr>\n",
              "      <th>165</th>\n",
              "      <td>Male</td>\n",
              "      <td>30.0</td>\n",
              "      <td>1.92</td>\n",
              "      <td>130.0</td>\n",
              "      <td>yes</td>\n",
              "      <td>no</td>\n",
              "      <td>2.0</td>\n",
              "      <td>3.0</td>\n",
              "      <td>Sometimes</td>\n",
              "      <td>yes</td>\n",
              "      <td>1.0</td>\n",
              "      <td>no</td>\n",
              "      <td>1.0</td>\n",
              "      <td>0.0</td>\n",
              "      <td>Sometimes</td>\n",
              "      <td>Public_Transportation</td>\n",
              "      <td>Obesity_Type_II</td>\n",
              "    </tr>\n",
              "  </tbody>\n",
              "</table>\n",
              "</div>"
            ],
            "text/plain": [
              "     Gender   Age  ...                 MTRANS           NObeyesdad\n",
              "18   Female  30.0  ...             Automobile  Overweight_Level_II\n",
              "68     Male  30.0  ...             Automobile      Obesity_Type_II\n",
              "165    Male  30.0  ...  Public_Transportation      Obesity_Type_II\n",
              "\n",
              "[3 rows x 17 columns]"
            ]
          },
          "metadata": {
            "tags": []
          },
          "execution_count": 138
        }
      ]
    },
    {
      "cell_type": "markdown",
      "metadata": {
        "id": "0z23DwYf5OnR",
        "colab_type": "text"
      },
      "source": [
        "Значения, которые принимают категориальные признаки, можно получить следующим образом:"
      ]
    },
    {
      "cell_type": "code",
      "metadata": {
        "id": "mO33w0kU5OnS",
        "colab_type": "code",
        "colab": {
          "base_uri": "https://localhost:8080/",
          "height": 52
        },
        "outputId": "e50f90db-4c96-4eb2-d23b-d4b92026bdcd"
      },
      "source": [
        "data['CAEC'].unique()"
      ],
      "execution_count": 75,
      "outputs": [
        {
          "output_type": "execute_result",
          "data": {
            "text/plain": [
              "[Sometimes, Frequently, Always, no]\n",
              "Categories (4, object): [Sometimes, Frequently, Always, no]"
            ]
          },
          "metadata": {
            "tags": []
          },
          "execution_count": 75
        }
      ]
    },
    {
      "cell_type": "code",
      "metadata": {
        "id": "Dd8k9GdK5Onb",
        "colab_type": "code",
        "colab": {
          "base_uri": "https://localhost:8080/",
          "height": 52
        },
        "outputId": "ba717a1d-5abd-46b1-e43c-b7682222544d"
      },
      "source": [
        "data['CALC'].unique()"
      ],
      "execution_count": 78,
      "outputs": [
        {
          "output_type": "execute_result",
          "data": {
            "text/plain": [
              "[no, Sometimes, Frequently, Always]\n",
              "Categories (4, object): [no, Sometimes, Frequently, Always]"
            ]
          },
          "metadata": {
            "tags": []
          },
          "execution_count": 78
        }
      ]
    },
    {
      "cell_type": "code",
      "metadata": {
        "id": "680ZdnP6dNKx",
        "colab_type": "code",
        "colab": {
          "base_uri": "https://localhost:8080/",
          "height": 52
        },
        "outputId": "78c504d6-45ec-47cf-aa28-8d5503dfd32b"
      },
      "source": [
        "data['MTRANS'].unique()"
      ],
      "execution_count": 80,
      "outputs": [
        {
          "output_type": "execute_result",
          "data": {
            "text/plain": [
              "[Public_Transportation, Walking, Automobile, Motorbike, Bike]\n",
              "Categories (5, object): [Public_Transportation, Walking, Automobile, Motorbike, Bike]"
            ]
          },
          "metadata": {
            "tags": []
          },
          "execution_count": 80
        }
      ]
    },
    {
      "cell_type": "code",
      "metadata": {
        "id": "ZPtEPngGdRh6",
        "colab_type": "code",
        "colab": {
          "base_uri": "https://localhost:8080/",
          "height": 69
        },
        "outputId": "1030611a-179c-448a-ea46-008d78cfd09b"
      },
      "source": [
        "data['NObeyesdad'].unique()\n"
      ],
      "execution_count": 81,
      "outputs": [
        {
          "output_type": "execute_result",
          "data": {
            "text/plain": [
              "[Normal_Weight, Overweight_Level_I, Overweight_Level_II, Obesity_Type_I, Insufficient_Weight, Obesity_Type_II, Obesity_Type_III]\n",
              "Categories (7, object): [Normal_Weight, Overweight_Level_I, Overweight_Level_II, Obesity_Type_I,\n",
              "                         Insufficient_Weight, Obesity_Type_II, Obesity_Type_III]"
            ]
          },
          "metadata": {
            "tags": []
          },
          "execution_count": 81
        }
      ]
    },
    {
      "cell_type": "code",
      "metadata": {
        "id": "tB8millWdYK9",
        "colab_type": "code",
        "colab": {
          "base_uri": "https://localhost:8080/",
          "height": 52
        },
        "outputId": "a96d6dca-8bcc-4be1-8ea4-30fcf3b51c62"
      },
      "source": [
        "data['SMOKE'].unique()"
      ],
      "execution_count": 82,
      "outputs": [
        {
          "output_type": "execute_result",
          "data": {
            "text/plain": [
              "[no, yes]\n",
              "Categories (2, object): [no, yes]"
            ]
          },
          "metadata": {
            "tags": []
          },
          "execution_count": 82
        }
      ]
    },
    {
      "cell_type": "code",
      "metadata": {
        "id": "KdleIv75daCH",
        "colab_type": "code",
        "colab": {
          "base_uri": "https://localhost:8080/",
          "height": 52
        },
        "outputId": "ec75a98e-2900-4f32-ac79-665eb8aeace7"
      },
      "source": [
        "data['SCC'].unique()"
      ],
      "execution_count": 83,
      "outputs": [
        {
          "output_type": "execute_result",
          "data": {
            "text/plain": [
              "[no, yes]\n",
              "Categories (2, object): [no, yes]"
            ]
          },
          "metadata": {
            "tags": []
          },
          "execution_count": 83
        }
      ]
    },
    {
      "cell_type": "markdown",
      "metadata": {
        "id": "zVm1HYms5Ong",
        "colab_type": "text"
      },
      "source": [
        "Интересно посмотреть, сколько раз номинальные переменные принимают то или иное значение"
      ]
    },
    {
      "cell_type": "code",
      "metadata": {
        "id": "M_iitIzj5Ong",
        "colab_type": "code",
        "colab": {
          "base_uri": "https://localhost:8080/",
          "height": 225
        },
        "outputId": "855aa676-08db-4e36-f35a-d60cd547432f"
      },
      "source": [
        "data['Age'].value_counts() "
      ],
      "execution_count": null,
      "outputs": [
        {
          "output_type": "execute_result",
          "data": {
            "text/plain": [
              "18.000000    126\n",
              "26.000000    101\n",
              "21.000000     96\n",
              "23.000000     89\n",
              "19.000000     59\n",
              "            ... \n",
              "22.882558      1\n",
              "25.617227      1\n",
              "21.016849      1\n",
              "24.001685      1\n",
              "29.438790      1\n",
              "Name: Age, Length: 1370, dtype: int64"
            ]
          },
          "metadata": {
            "tags": []
          },
          "execution_count": 141
        }
      ]
    },
    {
      "cell_type": "markdown",
      "metadata": {
        "id": "aWS7OLlWfcNZ",
        "colab_type": "text"
      },
      "source": [
        "Далее видим несбалансированность по типу транспортировки. Подавляющее число пользуются общественным транспортом и автомобилем."
      ]
    },
    {
      "cell_type": "code",
      "metadata": {
        "id": "c_oltnAT5Onk",
        "colab_type": "code",
        "colab": {
          "base_uri": "https://localhost:8080/",
          "height": 282
        },
        "outputId": "c1d06e1c-93b9-4dd9-81eb-158c15f94e3d"
      },
      "source": [
        "sns.countplot(x='MTRANS', data=data)\n",
        "pass"
      ],
      "execution_count": 86,
      "outputs": [
        {
          "output_type": "display_data",
          "data": {
            "image/png": "[encoded data removed]",
            "text/plain": [
              "<Figure size 432x288 with 1 Axes>"
            ]
          },
          "metadata": {
            "tags": [],
            "needs_background": "light"
          }
        }
      ]
    },
    {
      "cell_type": "code",
      "metadata": {
        "id": "LN5X6ZAY5Ons",
        "colab_type": "code",
        "colab": {
          "base_uri": "https://localhost:8080/",
          "height": 121
        },
        "outputId": "25a532a6-7485-4137-cd0f-882c7fec402d"
      },
      "source": [
        "data['MTRANS'].value_counts() "
      ],
      "execution_count": 87,
      "outputs": [
        {
          "output_type": "execute_result",
          "data": {
            "text/plain": [
              "Public_Transportation    1539\n",
              "Automobile                457\n",
              "Walking                    55\n",
              "Motorbike                  11\n",
              "Bike                        7\n",
              "Name: MTRANS, dtype: int64"
            ]
          },
          "metadata": {
            "tags": []
          },
          "execution_count": 87
        }
      ]
    },
    {
      "cell_type": "code",
      "metadata": {
        "id": "4YsuioTB5Onx",
        "colab_type": "code",
        "colab": {
          "base_uri": "https://localhost:8080/",
          "height": 282
        },
        "outputId": "8eccd29f-fcd5-41c6-81cb-95fa65cc164f"
      },
      "source": [
        "sns.countplot(x='MTRANS', order=data['MTRANS'].value_counts().index, data=data)\n",
        "pass"
      ],
      "execution_count": 88,
      "outputs": [
        {
          "output_type": "display_data",
          "data": {
            "image/png": "[encoded data removed]",
            "text/plain": [
              "<Figure size 432x288 with 1 Axes>"
            ]
          },
          "metadata": {
            "tags": [],
            "needs_background": "light"
          }
        }
      ]
    },
    {
      "cell_type": "markdown",
      "metadata": {
        "id": "fn7IGfg1gLMp",
        "colab_type": "text"
      },
      "source": [
        "Мужчины заметно чаще пользуются автомобилем"
      ]
    },
    {
      "cell_type": "code",
      "metadata": {
        "id": "yZ30x86U5On1",
        "colab_type": "code",
        "colab": {
          "base_uri": "https://localhost:8080/",
          "height": 280
        },
        "outputId": "4e2ea83b-1ac7-4ef2-9b35-c857b4b0bd28"
      },
      "source": [
        "sns.countplot(x='MTRANS', order=data['MTRANS'].value_counts().index, hue='Gender', data=data)\n",
        "pass"
      ],
      "execution_count": 89,
      "outputs": [
        {
          "output_type": "display_data",
          "data": {
            "image/png": "[encoded data removed]",
            "text/plain": [
              "<Figure size 432x288 with 1 Axes>"
            ]
          },
          "metadata": {
            "tags": [],
            "needs_background": "light"
          }
        }
      ]
    },
    {
      "cell_type": "markdown",
      "metadata": {
        "id": "Bf24JkKK5On8",
        "colab_type": "text"
      },
      "source": [
        "##  4. Отсутствие пропущенных значений "
      ]
    },
    {
      "cell_type": "markdown",
      "metadata": {
        "id": "tjRKZD1Y5On9",
        "colab_type": "text"
      },
      "source": [
        "Пропущенные значения в таблице представлены значениями `np.nan`. \n",
        "Таких в нашей таблице нет:"
      ]
    },
    {
      "cell_type": "code",
      "metadata": {
        "scrolled": true,
        "id": "buHpCqGG5On9",
        "colab_type": "code",
        "colab": {
          "base_uri": "https://localhost:8080/",
          "height": 329
        },
        "outputId": "631ce7f6-c3eb-4037-d2b6-e56ac4bab111"
      },
      "source": [
        "data.isna().sum()  "
      ],
      "execution_count": 91,
      "outputs": [
        {
          "output_type": "execute_result",
          "data": {
            "text/plain": [
              "Gender                            0\n",
              "Age                               0\n",
              "Height                            0\n",
              "Weight                            0\n",
              "family_history_with_overweight    0\n",
              "FAVC                              0\n",
              "FCVC                              0\n",
              "NCP                               0\n",
              "CAEC                              0\n",
              "SMOKE                             0\n",
              "CH2O                              0\n",
              "SCC                               0\n",
              "FAF                               0\n",
              "TUE                               0\n",
              "CALC                              0\n",
              "MTRANS                            0\n",
              "NObeyesdad                        0\n",
              "dtype: int64"
            ]
          },
          "metadata": {
            "tags": []
          },
          "execution_count": 91
        }
      ]
    },
    {
      "cell_type": "code",
      "metadata": {
        "id": "4T3MBzpl5Ooi",
        "colab_type": "code",
        "colab": {
          "base_uri": "https://localhost:8080/",
          "height": 294
        },
        "outputId": "9caa9536-7e80-4e2e-d383-4e442b7f78e6"
      },
      "source": [
        "data.describe()"
      ],
      "execution_count": 186,
      "outputs": [
        {
          "output_type": "execute_result",
          "data": {
            "text/html": [
              "<div>\n",
              "<style scoped>\n",
              "    .dataframe tbody tr th:only-of-type {\n",
              "        vertical-align: middle;\n",
              "    }\n",
              "\n",
              "    .dataframe tbody tr th {\n",
              "        vertical-align: top;\n",
              "    }\n",
              "\n",
              "    .dataframe thead th {\n",
              "        text-align: right;\n",
              "    }\n",
              "</style>\n",
              "<table border=\"1\" class=\"dataframe\">\n",
              "  <thead>\n",
              "    <tr style=\"text-align: right;\">\n",
              "      <th></th>\n",
              "      <th>Age</th>\n",
              "      <th>Height</th>\n",
              "      <th>Weight</th>\n",
              "      <th>FCVC</th>\n",
              "      <th>NCP</th>\n",
              "      <th>CH2O</th>\n",
              "      <th>FAF</th>\n",
              "      <th>TUE</th>\n",
              "    </tr>\n",
              "  </thead>\n",
              "  <tbody>\n",
              "    <tr>\n",
              "      <th>count</th>\n",
              "      <td>2069.000000</td>\n",
              "      <td>2069.000000</td>\n",
              "      <td>2069.000000</td>\n",
              "      <td>2069.000000</td>\n",
              "      <td>2069.000000</td>\n",
              "      <td>2069.000000</td>\n",
              "      <td>2069.000000</td>\n",
              "      <td>2069.000000</td>\n",
              "    </tr>\n",
              "    <tr>\n",
              "      <th>mean</th>\n",
              "      <td>24.382371</td>\n",
              "      <td>1.701553</td>\n",
              "      <td>86.423053</td>\n",
              "      <td>2.422696</td>\n",
              "      <td>2.689249</td>\n",
              "      <td>2.010000</td>\n",
              "      <td>1.011253</td>\n",
              "      <td>0.652350</td>\n",
              "    </tr>\n",
              "    <tr>\n",
              "      <th>std</th>\n",
              "      <td>6.374717</td>\n",
              "      <td>0.090451</td>\n",
              "      <td>25.538106</td>\n",
              "      <td>0.532611</td>\n",
              "      <td>0.776829</td>\n",
              "      <td>0.611888</td>\n",
              "      <td>0.851536</td>\n",
              "      <td>0.607462</td>\n",
              "    </tr>\n",
              "    <tr>\n",
              "      <th>min</th>\n",
              "      <td>14.000000</td>\n",
              "      <td>1.500000</td>\n",
              "      <td>41.397378</td>\n",
              "      <td>1.000000</td>\n",
              "      <td>1.000000</td>\n",
              "      <td>1.000000</td>\n",
              "      <td>0.000000</td>\n",
              "      <td>0.000000</td>\n",
              "    </tr>\n",
              "    <tr>\n",
              "      <th>25%</th>\n",
              "      <td>19.979810</td>\n",
              "      <td>1.630000</td>\n",
              "      <td>66.000000</td>\n",
              "      <td>2.000000</td>\n",
              "      <td>2.667711</td>\n",
              "      <td>1.596212</td>\n",
              "      <td>0.118271</td>\n",
              "      <td>0.000000</td>\n",
              "    </tr>\n",
              "    <tr>\n",
              "      <th>50%</th>\n",
              "      <td>22.865018</td>\n",
              "      <td>1.700216</td>\n",
              "      <td>83.000000</td>\n",
              "      <td>2.396265</td>\n",
              "      <td>3.000000</td>\n",
              "      <td>2.000000</td>\n",
              "      <td>1.000000</td>\n",
              "      <td>0.618087</td>\n",
              "    </tr>\n",
              "    <tr>\n",
              "      <th>75%</th>\n",
              "      <td>26.000000</td>\n",
              "      <td>1.767077</td>\n",
              "      <td>106.528811</td>\n",
              "      <td>3.000000</td>\n",
              "      <td>3.000000</td>\n",
              "      <td>2.482933</td>\n",
              "      <td>1.666390</td>\n",
              "      <td>1.000000</td>\n",
              "    </tr>\n",
              "    <tr>\n",
              "      <th>max</th>\n",
              "      <td>61.000000</td>\n",
              "      <td>1.915000</td>\n",
              "      <td>152.473675</td>\n",
              "      <td>3.000000</td>\n",
              "      <td>4.000000</td>\n",
              "      <td>3.000000</td>\n",
              "      <td>3.000000</td>\n",
              "      <td>2.000000</td>\n",
              "    </tr>\n",
              "  </tbody>\n",
              "</table>\n",
              "</div>"
            ],
            "text/plain": [
              "               Age       Height  ...          FAF          TUE\n",
              "count  2069.000000  2069.000000  ...  2069.000000  2069.000000\n",
              "mean     24.382371     1.701553  ...     1.011253     0.652350\n",
              "std       6.374717     0.090451  ...     0.851536     0.607462\n",
              "min      14.000000     1.500000  ...     0.000000     0.000000\n",
              "25%      19.979810     1.630000  ...     0.118271     0.000000\n",
              "50%      22.865018     1.700216  ...     1.000000     0.618087\n",
              "75%      26.000000     1.767077  ...     1.666390     1.000000\n",
              "max      61.000000     1.915000  ...     3.000000     2.000000\n",
              "\n",
              "[8 rows x 8 columns]"
            ]
          },
          "metadata": {
            "tags": []
          },
          "execution_count": 186
        }
      ]
    },
    {
      "cell_type": "code",
      "metadata": {
        "scrolled": true,
        "id": "PuVdOW__5Ool",
        "colab_type": "code",
        "colab": {
          "base_uri": "https://localhost:8080/",
          "height": 171
        },
        "outputId": "1cc2c366-75ff-4a68-be11-ddf62adf44e0"
      },
      "source": [
        "data.describe(include=['category'])"
      ],
      "execution_count": 211,
      "outputs": [
        {
          "output_type": "execute_result",
          "data": {
            "text/html": [
              "<div>\n",
              "<style scoped>\n",
              "    .dataframe tbody tr th:only-of-type {\n",
              "        vertical-align: middle;\n",
              "    }\n",
              "\n",
              "    .dataframe tbody tr th {\n",
              "        vertical-align: top;\n",
              "    }\n",
              "\n",
              "    .dataframe thead th {\n",
              "        text-align: right;\n",
              "    }\n",
              "</style>\n",
              "<table border=\"1\" class=\"dataframe\">\n",
              "  <thead>\n",
              "    <tr style=\"text-align: right;\">\n",
              "      <th></th>\n",
              "      <th>Gender</th>\n",
              "      <th>family_history_with_overweight</th>\n",
              "      <th>FAVC</th>\n",
              "      <th>CAEC</th>\n",
              "      <th>SMOKE</th>\n",
              "      <th>SCC</th>\n",
              "      <th>CALC</th>\n",
              "      <th>MTRANS</th>\n",
              "      <th>NObeyesdad</th>\n",
              "    </tr>\n",
              "  </thead>\n",
              "  <tbody>\n",
              "    <tr>\n",
              "      <th>count</th>\n",
              "      <td>2069</td>\n",
              "      <td>2069</td>\n",
              "      <td>2069</td>\n",
              "      <td>2069</td>\n",
              "      <td>2069</td>\n",
              "      <td>2069</td>\n",
              "      <td>2069</td>\n",
              "      <td>2069</td>\n",
              "      <td>2069</td>\n",
              "    </tr>\n",
              "    <tr>\n",
              "      <th>unique</th>\n",
              "      <td>2</td>\n",
              "      <td>2</td>\n",
              "      <td>2</td>\n",
              "      <td>4</td>\n",
              "      <td>2</td>\n",
              "      <td>2</td>\n",
              "      <td>4</td>\n",
              "      <td>5</td>\n",
              "      <td>7</td>\n",
              "    </tr>\n",
              "    <tr>\n",
              "      <th>top</th>\n",
              "      <td>Male</td>\n",
              "      <td>yes</td>\n",
              "      <td>yes</td>\n",
              "      <td>Sometimes</td>\n",
              "      <td>yes</td>\n",
              "      <td>no</td>\n",
              "      <td>Sometimes</td>\n",
              "      <td>Public_Transportation</td>\n",
              "      <td>Obesity_Type_I</td>\n",
              "    </tr>\n",
              "    <tr>\n",
              "      <th>freq</th>\n",
              "      <td>1056</td>\n",
              "      <td>1698</td>\n",
              "      <td>1830</td>\n",
              "      <td>1730</td>\n",
              "      <td>1830</td>\n",
              "      <td>1977</td>\n",
              "      <td>1365</td>\n",
              "      <td>1539</td>\n",
              "      <td>345</td>\n",
              "    </tr>\n",
              "  </tbody>\n",
              "</table>\n",
              "</div>"
            ],
            "text/plain": [
              "       Gender  ...      NObeyesdad\n",
              "count    2069  ...            2069\n",
              "unique      2  ...               7\n",
              "top      Male  ...  Obesity_Type_I\n",
              "freq     1056  ...             345\n",
              "\n",
              "[4 rows x 9 columns]"
            ]
          },
          "metadata": {
            "tags": []
          },
          "execution_count": 211
        }
      ]
    },
    {
      "cell_type": "markdown",
      "metadata": {
        "id": "8TVQGRMn5Oop",
        "colab_type": "text"
      },
      "source": [
        "## 5. Бинаризация и векторизация номинальных признаков"
      ]
    },
    {
      "cell_type": "markdown",
      "metadata": {
        "id": "sPoFd5cM5Oow",
        "colab_type": "text"
      },
      "source": [
        "Определяем бинарные и небинарные признаки"
      ]
    },
    {
      "cell_type": "code",
      "metadata": {
        "id": "XpPfrasRuHLX",
        "colab_type": "code",
        "colab": {
          "base_uri": "https://localhost:8080/",
          "height": 87
        },
        "outputId": "b9a251dd-267e-453c-a53f-ab701d3b1f4b"
      },
      "source": [
        "data_describe = data.describe(include = ['category'])\n",
        "binary_columns = [c for c in data_describe if data_describe[c]['unique'] == 2]\n",
        "nonbinary_columns = [c for c in data_describe if data_describe[c]['unique'] > 2]\n",
        "categorical_columns = [c for c in data.columns if data[c].dtype.name == 'category']\n",
        "numerical_columns   = [c for c in data.columns if data[c].dtype.name != 'category']\n",
        "\n",
        "print(binary_columns)\n",
        "print(nonbinary_columns)\n",
        "print(categorical_columns)\n",
        "print(numerical_columns)\n"
      ],
      "execution_count": 297,
      "outputs": [
        {
          "output_type": "stream",
          "text": [
            "['Gender', 'family_history_with_overweight', 'FAVC', 'SMOKE', 'SCC']\n",
            "['CAEC', 'CALC', 'MTRANS', 'NObeyesdad']\n",
            "['Gender', 'family_history_with_overweight', 'FAVC', 'CAEC', 'SMOKE', 'SCC', 'CALC', 'MTRANS', 'NObeyesdad']\n",
            "['Age', 'Height', 'Weight', 'FCVC', 'NCP', 'CH2O', 'FAF', 'TUE']\n"
          ],
          "name": "stdout"
        }
      ]
    },
    {
      "cell_type": "code",
      "metadata": {
        "id": "IAwmV6kkwgVh",
        "colab_type": "code",
        "colab": {}
      },
      "source": [
        "data['Gender'] = pd.factorize(data['Gender'])[0]\n",
        "data['family_history_with_overweight'] = pd.factorize(data['family_history_with_overweight'])[0]\n",
        "data['FAVC'] = pd.factorize(data['FAVC'])[0]\n",
        "data['SMOKE'] = pd.factorize(data['SMOKE'])[0]\n",
        "data['SCC'] = pd.factorize(data['SCC'])[0]\n"
      ],
      "execution_count": 298,
      "outputs": []
    },
    {
      "cell_type": "code",
      "metadata": {
        "id": "N1qcnSjM9m7c",
        "colab_type": "code",
        "colab": {
          "base_uri": "https://localhost:8080/",
          "height": 35
        },
        "outputId": "5a66163d-3300-4681-c30a-4826fc320912"
      },
      "source": [
        "# data['NObeyesdad'] = pd.factorize(data['NObeyesdad'])[0]\n",
        "# data['NObeyesdad'].unique()"
      ],
      "execution_count": 283,
      "outputs": [
        {
          "output_type": "execute_result",
          "data": {
            "text/plain": [
              "array([0, 1, 2])"
            ]
          },
          "metadata": {
            "tags": []
          },
          "execution_count": 283
        }
      ]
    },
    {
      "cell_type": "code",
      "metadata": {
        "id": "hBVqB-pdJVsZ",
        "colab_type": "code",
        "colab": {}
      },
      "source": [
        "# nonbinary_columns.remove('NObeyesdad')"
      ],
      "execution_count": 262,
      "outputs": []
    },
    {
      "cell_type": "code",
      "metadata": {
        "id": "blxbifCcJdjz",
        "colab_type": "code",
        "colab": {
          "base_uri": "https://localhost:8080/",
          "height": 35
        },
        "outputId": "87316c6e-26e0-445d-cc17-84a9eaba20d8"
      },
      "source": [
        "print(nonbinary_columns)"
      ],
      "execution_count": 287,
      "outputs": [
        {
          "output_type": "stream",
          "text": [
            "['CAEC', 'CALC', 'MTRANS', 'NObeyesdad']\n"
          ],
          "name": "stdout"
        }
      ]
    },
    {
      "cell_type": "markdown",
      "metadata": {
        "id": "tqje98ADsQgx",
        "colab_type": "text"
      },
      "source": [
        "К небинарными признакам применим метод _векторизации_, \n",
        "который заключается в следующем.\n",
        "\n",
        "Признак `j`, принимающий `s` значений, заменим на `s` признаков, принимащих значения `0` или `1`,\n",
        "в зависимости от того, чему равно значение исходного признака `j`.\n",
        "\n",
        "Например, в нашей задаче признак `CALC` принимает 4 различных значения: "
      ]
    },
    {
      "cell_type": "code",
      "metadata": {
        "id": "S_0X71wwrUTA",
        "colab_type": "code",
        "colab": {
          "base_uri": "https://localhost:8080/",
          "height": 35
        },
        "outputId": "d3470fb6-1f1a-4646-93c2-2756fba5bb39"
      },
      "source": [
        "data['CALC'].unique().size"
      ],
      "execution_count": 135,
      "outputs": [
        {
          "output_type": "execute_result",
          "data": {
            "text/plain": [
              "4"
            ]
          },
          "metadata": {
            "tags": []
          },
          "execution_count": 135
        }
      ]
    },
    {
      "cell_type": "code",
      "metadata": {
        "id": "rLkNwhIs0puj",
        "colab_type": "code",
        "colab": {
          "base_uri": "https://localhost:8080/",
          "height": 35
        },
        "outputId": "f8a98775-3beb-422b-da23-65afbea06620"
      },
      "source": [
        "binary_columns    = [c for c in categorical_columns if data_describe[c]['unique'] == 2]\n",
        "nonbinary_columns = [c for c in categorical_columns if data_describe[c]['unique'] > 2]\n",
        "print(binary_columns, nonbinary_columns)"
      ],
      "execution_count": 299,
      "outputs": [
        {
          "output_type": "stream",
          "text": [
            "['Gender', 'family_history_with_overweight', 'FAVC', 'SMOKE', 'SCC'] ['CAEC', 'CALC', 'MTRANS', 'NObeyesdad']\n"
          ],
          "name": "stdout"
        }
      ]
    },
    {
      "cell_type": "code",
      "metadata": {
        "id": "hl8ju5c22Y6w",
        "colab_type": "code",
        "colab": {}
      },
      "source": [
        "Создадим dummies - данные для таких признаков"
      ],
      "execution_count": null,
      "outputs": []
    },
    {
      "cell_type": "code",
      "metadata": {
        "id": "90mt5_NMyqAX",
        "colab_type": "code",
        "colab": {
          "base_uri": "https://localhost:8080/",
          "height": 121
        },
        "outputId": "6fc306f2-1a25-4241-b386-96d823833285"
      },
      "source": [
        "data_nonbinary = pd.get_dummies(data[nonbinary_columns])\n",
        "print(data_nonbinary.columns)"
      ],
      "execution_count": 300,
      "outputs": [
        {
          "output_type": "stream",
          "text": [
            "Index(['CAEC_Always', 'CAEC_Frequently', 'CAEC_Sometimes', 'CAEC_no',\n",
            "       'CALC_Always', 'CALC_Frequently', 'CALC_Sometimes', 'CALC_no',\n",
            "       'MTRANS_Automobile', 'MTRANS_Bike', 'MTRANS_Motorbike',\n",
            "       'MTRANS_Public_Transportation', 'MTRANS_Walking', 'NObeyesdad_high',\n",
            "       'NObeyesdad_low', 'NObeyesdad_norm'],\n",
            "      dtype='object')\n"
          ],
          "name": "stdout"
        }
      ]
    },
    {
      "cell_type": "markdown",
      "metadata": {
        "id": "O_rOwUbF22Ta",
        "colab_type": "text"
      },
      "source": [
        "Нормализуем численные признаки"
      ]
    },
    {
      "cell_type": "code",
      "metadata": {
        "id": "LiaOSVNq27pn",
        "colab_type": "code",
        "colab": {
          "base_uri": "https://localhost:8080/",
          "height": 294
        },
        "outputId": "66dd7e49-6a2a-40bd-f6b1-1a59a06e4cf3"
      },
      "source": [
        "data_numerical = data[numerical_columns]\n",
        "data_numerical.describe()"
      ],
      "execution_count": 301,
      "outputs": [
        {
          "output_type": "execute_result",
          "data": {
            "text/html": [
              "<div>\n",
              "<style scoped>\n",
              "    .dataframe tbody tr th:only-of-type {\n",
              "        vertical-align: middle;\n",
              "    }\n",
              "\n",
              "    .dataframe tbody tr th {\n",
              "        vertical-align: top;\n",
              "    }\n",
              "\n",
              "    .dataframe thead th {\n",
              "        text-align: right;\n",
              "    }\n",
              "</style>\n",
              "<table border=\"1\" class=\"dataframe\">\n",
              "  <thead>\n",
              "    <tr style=\"text-align: right;\">\n",
              "      <th></th>\n",
              "      <th>Age</th>\n",
              "      <th>Height</th>\n",
              "      <th>Weight</th>\n",
              "      <th>FCVC</th>\n",
              "      <th>NCP</th>\n",
              "      <th>CH2O</th>\n",
              "      <th>FAF</th>\n",
              "      <th>TUE</th>\n",
              "    </tr>\n",
              "  </thead>\n",
              "  <tbody>\n",
              "    <tr>\n",
              "      <th>count</th>\n",
              "      <td>2069.000000</td>\n",
              "      <td>2069.000000</td>\n",
              "      <td>2069.000000</td>\n",
              "      <td>2069.000000</td>\n",
              "      <td>2069.000000</td>\n",
              "      <td>2069.000000</td>\n",
              "      <td>2069.000000</td>\n",
              "      <td>2069.000000</td>\n",
              "    </tr>\n",
              "    <tr>\n",
              "      <th>mean</th>\n",
              "      <td>24.382371</td>\n",
              "      <td>1.701553</td>\n",
              "      <td>86.423053</td>\n",
              "      <td>2.422696</td>\n",
              "      <td>2.689249</td>\n",
              "      <td>2.010000</td>\n",
              "      <td>1.011253</td>\n",
              "      <td>0.652350</td>\n",
              "    </tr>\n",
              "    <tr>\n",
              "      <th>std</th>\n",
              "      <td>6.374717</td>\n",
              "      <td>0.090451</td>\n",
              "      <td>25.538106</td>\n",
              "      <td>0.532611</td>\n",
              "      <td>0.776829</td>\n",
              "      <td>0.611888</td>\n",
              "      <td>0.851536</td>\n",
              "      <td>0.607462</td>\n",
              "    </tr>\n",
              "    <tr>\n",
              "      <th>min</th>\n",
              "      <td>14.000000</td>\n",
              "      <td>1.500000</td>\n",
              "      <td>41.397378</td>\n",
              "      <td>1.000000</td>\n",
              "      <td>1.000000</td>\n",
              "      <td>1.000000</td>\n",
              "      <td>0.000000</td>\n",
              "      <td>0.000000</td>\n",
              "    </tr>\n",
              "    <tr>\n",
              "      <th>25%</th>\n",
              "      <td>19.979810</td>\n",
              "      <td>1.630000</td>\n",
              "      <td>66.000000</td>\n",
              "      <td>2.000000</td>\n",
              "      <td>2.667711</td>\n",
              "      <td>1.596212</td>\n",
              "      <td>0.118271</td>\n",
              "      <td>0.000000</td>\n",
              "    </tr>\n",
              "    <tr>\n",
              "      <th>50%</th>\n",
              "      <td>22.865018</td>\n",
              "      <td>1.700216</td>\n",
              "      <td>83.000000</td>\n",
              "      <td>2.396265</td>\n",
              "      <td>3.000000</td>\n",
              "      <td>2.000000</td>\n",
              "      <td>1.000000</td>\n",
              "      <td>0.618087</td>\n",
              "    </tr>\n",
              "    <tr>\n",
              "      <th>75%</th>\n",
              "      <td>26.000000</td>\n",
              "      <td>1.767077</td>\n",
              "      <td>106.528811</td>\n",
              "      <td>3.000000</td>\n",
              "      <td>3.000000</td>\n",
              "      <td>2.482933</td>\n",
              "      <td>1.666390</td>\n",
              "      <td>1.000000</td>\n",
              "    </tr>\n",
              "    <tr>\n",
              "      <th>max</th>\n",
              "      <td>61.000000</td>\n",
              "      <td>1.915000</td>\n",
              "      <td>152.473675</td>\n",
              "      <td>3.000000</td>\n",
              "      <td>4.000000</td>\n",
              "      <td>3.000000</td>\n",
              "      <td>3.000000</td>\n",
              "      <td>2.000000</td>\n",
              "    </tr>\n",
              "  </tbody>\n",
              "</table>\n",
              "</div>"
            ],
            "text/plain": [
              "               Age       Height  ...          FAF          TUE\n",
              "count  2069.000000  2069.000000  ...  2069.000000  2069.000000\n",
              "mean     24.382371     1.701553  ...     1.011253     0.652350\n",
              "std       6.374717     0.090451  ...     0.851536     0.607462\n",
              "min      14.000000     1.500000  ...     0.000000     0.000000\n",
              "25%      19.979810     1.630000  ...     0.118271     0.000000\n",
              "50%      22.865018     1.700216  ...     1.000000     0.618087\n",
              "75%      26.000000     1.767077  ...     1.666390     1.000000\n",
              "max      61.000000     1.915000  ...     3.000000     2.000000\n",
              "\n",
              "[8 rows x 8 columns]"
            ]
          },
          "metadata": {
            "tags": []
          },
          "execution_count": 301
        }
      ]
    },
    {
      "cell_type": "code",
      "metadata": {
        "id": "EKm8TVVP3DOs",
        "colab_type": "code",
        "colab": {
          "base_uri": "https://localhost:8080/",
          "height": 294
        },
        "outputId": "5370b14b-0170-4636-92a3-d0c2a6ecbf3f"
      },
      "source": [
        "data_numerical = (data_numerical - data_numerical.mean(axis = 0))/data_numerical.std(axis = 0)\n",
        "data_numerical.describe()"
      ],
      "execution_count": 302,
      "outputs": [
        {
          "output_type": "execute_result",
          "data": {
            "text/html": [
              "<div>\n",
              "<style scoped>\n",
              "    .dataframe tbody tr th:only-of-type {\n",
              "        vertical-align: middle;\n",
              "    }\n",
              "\n",
              "    .dataframe tbody tr th {\n",
              "        vertical-align: top;\n",
              "    }\n",
              "\n",
              "    .dataframe thead th {\n",
              "        text-align: right;\n",
              "    }\n",
              "</style>\n",
              "<table border=\"1\" class=\"dataframe\">\n",
              "  <thead>\n",
              "    <tr style=\"text-align: right;\">\n",
              "      <th></th>\n",
              "      <th>Age</th>\n",
              "      <th>Height</th>\n",
              "      <th>Weight</th>\n",
              "      <th>FCVC</th>\n",
              "      <th>NCP</th>\n",
              "      <th>CH2O</th>\n",
              "      <th>FAF</th>\n",
              "      <th>TUE</th>\n",
              "    </tr>\n",
              "  </thead>\n",
              "  <tbody>\n",
              "    <tr>\n",
              "      <th>count</th>\n",
              "      <td>2.069000e+03</td>\n",
              "      <td>2.069000e+03</td>\n",
              "      <td>2.069000e+03</td>\n",
              "      <td>2.069000e+03</td>\n",
              "      <td>2.069000e+03</td>\n",
              "      <td>2.069000e+03</td>\n",
              "      <td>2.069000e+03</td>\n",
              "      <td>2.069000e+03</td>\n",
              "    </tr>\n",
              "    <tr>\n",
              "      <th>mean</th>\n",
              "      <td>1.256138e-15</td>\n",
              "      <td>3.093286e-14</td>\n",
              "      <td>2.887975e-16</td>\n",
              "      <td>-5.346456e-15</td>\n",
              "      <td>-1.867954e-15</td>\n",
              "      <td>-2.402675e-15</td>\n",
              "      <td>-1.381185e-15</td>\n",
              "      <td>-2.196440e-15</td>\n",
              "    </tr>\n",
              "    <tr>\n",
              "      <th>std</th>\n",
              "      <td>1.000000e+00</td>\n",
              "      <td>1.000000e+00</td>\n",
              "      <td>1.000000e+00</td>\n",
              "      <td>1.000000e+00</td>\n",
              "      <td>1.000000e+00</td>\n",
              "      <td>1.000000e+00</td>\n",
              "      <td>1.000000e+00</td>\n",
              "      <td>1.000000e+00</td>\n",
              "    </tr>\n",
              "    <tr>\n",
              "      <th>min</th>\n",
              "      <td>-1.628680e+00</td>\n",
              "      <td>-2.228309e+00</td>\n",
              "      <td>-1.763078e+00</td>\n",
              "      <td>-2.671171e+00</td>\n",
              "      <td>-2.174544e+00</td>\n",
              "      <td>-1.650629e+00</td>\n",
              "      <td>-1.187564e+00</td>\n",
              "      <td>-1.073894e+00</td>\n",
              "    </tr>\n",
              "    <tr>\n",
              "      <th>25%</th>\n",
              "      <td>-6.906284e-01</td>\n",
              "      <td>-7.910654e-01</td>\n",
              "      <td>-7.997090e-01</td>\n",
              "      <td>-7.936291e-01</td>\n",
              "      <td>-2.772500e-02</td>\n",
              "      <td>-6.762484e-01</td>\n",
              "      <td>-1.048672e+00</td>\n",
              "      <td>-1.073894e+00</td>\n",
              "    </tr>\n",
              "    <tr>\n",
              "      <th>50%</th>\n",
              "      <td>-2.380267e-01</td>\n",
              "      <td>-1.477711e-02</td>\n",
              "      <td>-1.340371e-01</td>\n",
              "      <td>-4.962497e-02</td>\n",
              "      <td>4.000255e-01</td>\n",
              "      <td>-1.634356e-02</td>\n",
              "      <td>-1.321466e-02</td>\n",
              "      <td>-5.640350e-02</td>\n",
              "    </tr>\n",
              "    <tr>\n",
              "      <th>75%</th>\n",
              "      <td>2.537571e-01</td>\n",
              "      <td>7.244193e-01</td>\n",
              "      <td>7.872846e-01</td>\n",
              "      <td>1.083913e+00</td>\n",
              "      <td>4.000255e-01</td>\n",
              "      <td>7.729069e-01</td>\n",
              "      <td>7.693597e-01</td>\n",
              "      <td>5.722990e-01</td>\n",
              "    </tr>\n",
              "    <tr>\n",
              "      <th>max</th>\n",
              "      <td>5.744197e+00</td>\n",
              "      <td>2.359814e+00</td>\n",
              "      <td>2.586355e+00</td>\n",
              "      <td>1.083913e+00</td>\n",
              "      <td>1.687310e+00</td>\n",
              "      <td>1.617942e+00</td>\n",
              "      <td>2.335483e+00</td>\n",
              "      <td>2.218492e+00</td>\n",
              "    </tr>\n",
              "  </tbody>\n",
              "</table>\n",
              "</div>"
            ],
            "text/plain": [
              "                Age        Height  ...           FAF           TUE\n",
              "count  2.069000e+03  2.069000e+03  ...  2.069000e+03  2.069000e+03\n",
              "mean   1.256138e-15  3.093286e-14  ... -1.381185e-15 -2.196440e-15\n",
              "std    1.000000e+00  1.000000e+00  ...  1.000000e+00  1.000000e+00\n",
              "min   -1.628680e+00 -2.228309e+00  ... -1.187564e+00 -1.073894e+00\n",
              "25%   -6.906284e-01 -7.910654e-01  ... -1.048672e+00 -1.073894e+00\n",
              "50%   -2.380267e-01 -1.477711e-02  ... -1.321466e-02 -5.640350e-02\n",
              "75%    2.537571e-01  7.244193e-01  ...  7.693597e-01  5.722990e-01\n",
              "max    5.744197e+00  2.359814e+00  ...  2.335483e+00  2.218492e+00\n",
              "\n",
              "[8 rows x 8 columns]"
            ]
          },
          "metadata": {
            "tags": []
          },
          "execution_count": 302
        }
      ]
    },
    {
      "cell_type": "code",
      "metadata": {
        "id": "kpzGFlFb3Xh-",
        "colab_type": "code",
        "colab": {
          "base_uri": "https://localhost:8080/",
          "height": 331
        },
        "outputId": "3a5b20e9-a1fd-40ff-c1b5-2e8623283b51"
      },
      "source": [
        "normal_data = pd.concat((data_numerical, data_nonbinary, data[binary_columns]), axis = 1)\n",
        "print(normal_data.shape)\n",
        "normal_data.describe()\n",
        "#print data.columns"
      ],
      "execution_count": 303,
      "outputs": [
        {
          "output_type": "stream",
          "text": [
            "(2069, 29)\n"
          ],
          "name": "stdout"
        },
        {
          "output_type": "execute_result",
          "data": {
            "text/html": [
              "<div>\n",
              "<style scoped>\n",
              "    .dataframe tbody tr th:only-of-type {\n",
              "        vertical-align: middle;\n",
              "    }\n",
              "\n",
              "    .dataframe tbody tr th {\n",
              "        vertical-align: top;\n",
              "    }\n",
              "\n",
              "    .dataframe thead th {\n",
              "        text-align: right;\n",
              "    }\n",
              "</style>\n",
              "<table border=\"1\" class=\"dataframe\">\n",
              "  <thead>\n",
              "    <tr style=\"text-align: right;\">\n",
              "      <th></th>\n",
              "      <th>Age</th>\n",
              "      <th>Height</th>\n",
              "      <th>Weight</th>\n",
              "      <th>FCVC</th>\n",
              "      <th>NCP</th>\n",
              "      <th>CH2O</th>\n",
              "      <th>FAF</th>\n",
              "      <th>TUE</th>\n",
              "      <th>CAEC_Always</th>\n",
              "      <th>CAEC_Frequently</th>\n",
              "      <th>CAEC_Sometimes</th>\n",
              "      <th>CAEC_no</th>\n",
              "      <th>CALC_Always</th>\n",
              "      <th>CALC_Frequently</th>\n",
              "      <th>CALC_Sometimes</th>\n",
              "      <th>CALC_no</th>\n",
              "      <th>MTRANS_Automobile</th>\n",
              "      <th>MTRANS_Bike</th>\n",
              "      <th>MTRANS_Motorbike</th>\n",
              "      <th>MTRANS_Public_Transportation</th>\n",
              "      <th>MTRANS_Walking</th>\n",
              "      <th>NObeyesdad_high</th>\n",
              "      <th>NObeyesdad_low</th>\n",
              "      <th>NObeyesdad_norm</th>\n",
              "      <th>Gender</th>\n",
              "      <th>family_history_with_overweight</th>\n",
              "      <th>FAVC</th>\n",
              "      <th>SMOKE</th>\n",
              "      <th>SCC</th>\n",
              "    </tr>\n",
              "  </thead>\n",
              "  <tbody>\n",
              "    <tr>\n",
              "      <th>count</th>\n",
              "      <td>2.069000e+03</td>\n",
              "      <td>2.069000e+03</td>\n",
              "      <td>2.069000e+03</td>\n",
              "      <td>2.069000e+03</td>\n",
              "      <td>2.069000e+03</td>\n",
              "      <td>2.069000e+03</td>\n",
              "      <td>2.069000e+03</td>\n",
              "      <td>2.069000e+03</td>\n",
              "      <td>2069.000000</td>\n",
              "      <td>2069.000000</td>\n",
              "      <td>2069.000000</td>\n",
              "      <td>2069.000000</td>\n",
              "      <td>2069.000000</td>\n",
              "      <td>2069.000000</td>\n",
              "      <td>2069.000000</td>\n",
              "      <td>2069.000000</td>\n",
              "      <td>2069.00000</td>\n",
              "      <td>2069.000000</td>\n",
              "      <td>2069.000000</td>\n",
              "      <td>2069.000000</td>\n",
              "      <td>2069.000000</td>\n",
              "      <td>2069.000000</td>\n",
              "      <td>2069.000000</td>\n",
              "      <td>2069.000000</td>\n",
              "      <td>2069.000000</td>\n",
              "      <td>2069.000000</td>\n",
              "      <td>2069.000000</td>\n",
              "      <td>2069.000000</td>\n",
              "      <td>2069.000000</td>\n",
              "    </tr>\n",
              "    <tr>\n",
              "      <th>mean</th>\n",
              "      <td>1.256138e-15</td>\n",
              "      <td>3.093286e-14</td>\n",
              "      <td>2.887975e-16</td>\n",
              "      <td>-5.346456e-15</td>\n",
              "      <td>-1.867954e-15</td>\n",
              "      <td>-2.402675e-15</td>\n",
              "      <td>-1.381185e-15</td>\n",
              "      <td>-2.196440e-15</td>\n",
              "      <td>0.024650</td>\n",
              "      <td>0.114548</td>\n",
              "      <td>0.836153</td>\n",
              "      <td>0.024650</td>\n",
              "      <td>0.000483</td>\n",
              "      <td>0.033349</td>\n",
              "      <td>0.659739</td>\n",
              "      <td>0.306428</td>\n",
              "      <td>0.22088</td>\n",
              "      <td>0.003383</td>\n",
              "      <td>0.005317</td>\n",
              "      <td>0.743838</td>\n",
              "      <td>0.026583</td>\n",
              "      <td>0.735621</td>\n",
              "      <td>0.126148</td>\n",
              "      <td>0.138231</td>\n",
              "      <td>0.510391</td>\n",
              "      <td>0.179314</td>\n",
              "      <td>0.884485</td>\n",
              "      <td>0.884485</td>\n",
              "      <td>0.044466</td>\n",
              "    </tr>\n",
              "    <tr>\n",
              "      <th>std</th>\n",
              "      <td>1.000000e+00</td>\n",
              "      <td>1.000000e+00</td>\n",
              "      <td>1.000000e+00</td>\n",
              "      <td>1.000000e+00</td>\n",
              "      <td>1.000000e+00</td>\n",
              "      <td>1.000000e+00</td>\n",
              "      <td>1.000000e+00</td>\n",
              "      <td>1.000000e+00</td>\n",
              "      <td>0.155092</td>\n",
              "      <td>0.318553</td>\n",
              "      <td>0.370226</td>\n",
              "      <td>0.155092</td>\n",
              "      <td>0.021985</td>\n",
              "      <td>0.179591</td>\n",
              "      <td>0.473911</td>\n",
              "      <td>0.461121</td>\n",
              "      <td>0.41494</td>\n",
              "      <td>0.058082</td>\n",
              "      <td>0.072738</td>\n",
              "      <td>0.436618</td>\n",
              "      <td>0.160900</td>\n",
              "      <td>0.441109</td>\n",
              "      <td>0.332096</td>\n",
              "      <td>0.345226</td>\n",
              "      <td>0.500013</td>\n",
              "      <td>0.383707</td>\n",
              "      <td>0.319719</td>\n",
              "      <td>0.319719</td>\n",
              "      <td>0.206178</td>\n",
              "    </tr>\n",
              "    <tr>\n",
              "      <th>min</th>\n",
              "      <td>-1.628680e+00</td>\n",
              "      <td>-2.228309e+00</td>\n",
              "      <td>-1.763078e+00</td>\n",
              "      <td>-2.671171e+00</td>\n",
              "      <td>-2.174544e+00</td>\n",
              "      <td>-1.650629e+00</td>\n",
              "      <td>-1.187564e+00</td>\n",
              "      <td>-1.073894e+00</td>\n",
              "      <td>0.000000</td>\n",
              "      <td>0.000000</td>\n",
              "      <td>0.000000</td>\n",
              "      <td>0.000000</td>\n",
              "      <td>0.000000</td>\n",
              "      <td>0.000000</td>\n",
              "      <td>0.000000</td>\n",
              "      <td>0.000000</td>\n",
              "      <td>0.00000</td>\n",
              "      <td>0.000000</td>\n",
              "      <td>0.000000</td>\n",
              "      <td>0.000000</td>\n",
              "      <td>0.000000</td>\n",
              "      <td>0.000000</td>\n",
              "      <td>0.000000</td>\n",
              "      <td>0.000000</td>\n",
              "      <td>0.000000</td>\n",
              "      <td>0.000000</td>\n",
              "      <td>0.000000</td>\n",
              "      <td>0.000000</td>\n",
              "      <td>0.000000</td>\n",
              "    </tr>\n",
              "    <tr>\n",
              "      <th>25%</th>\n",
              "      <td>-6.906284e-01</td>\n",
              "      <td>-7.910654e-01</td>\n",
              "      <td>-7.997090e-01</td>\n",
              "      <td>-7.936291e-01</td>\n",
              "      <td>-2.772500e-02</td>\n",
              "      <td>-6.762484e-01</td>\n",
              "      <td>-1.048672e+00</td>\n",
              "      <td>-1.073894e+00</td>\n",
              "      <td>0.000000</td>\n",
              "      <td>0.000000</td>\n",
              "      <td>1.000000</td>\n",
              "      <td>0.000000</td>\n",
              "      <td>0.000000</td>\n",
              "      <td>0.000000</td>\n",
              "      <td>0.000000</td>\n",
              "      <td>0.000000</td>\n",
              "      <td>0.00000</td>\n",
              "      <td>0.000000</td>\n",
              "      <td>0.000000</td>\n",
              "      <td>0.000000</td>\n",
              "      <td>0.000000</td>\n",
              "      <td>0.000000</td>\n",
              "      <td>0.000000</td>\n",
              "      <td>0.000000</td>\n",
              "      <td>0.000000</td>\n",
              "      <td>0.000000</td>\n",
              "      <td>1.000000</td>\n",
              "      <td>1.000000</td>\n",
              "      <td>0.000000</td>\n",
              "    </tr>\n",
              "    <tr>\n",
              "      <th>50%</th>\n",
              "      <td>-2.380267e-01</td>\n",
              "      <td>-1.477711e-02</td>\n",
              "      <td>-1.340371e-01</td>\n",
              "      <td>-4.962497e-02</td>\n",
              "      <td>4.000255e-01</td>\n",
              "      <td>-1.634356e-02</td>\n",
              "      <td>-1.321466e-02</td>\n",
              "      <td>-5.640350e-02</td>\n",
              "      <td>0.000000</td>\n",
              "      <td>0.000000</td>\n",
              "      <td>1.000000</td>\n",
              "      <td>0.000000</td>\n",
              "      <td>0.000000</td>\n",
              "      <td>0.000000</td>\n",
              "      <td>1.000000</td>\n",
              "      <td>0.000000</td>\n",
              "      <td>0.00000</td>\n",
              "      <td>0.000000</td>\n",
              "      <td>0.000000</td>\n",
              "      <td>1.000000</td>\n",
              "      <td>0.000000</td>\n",
              "      <td>1.000000</td>\n",
              "      <td>0.000000</td>\n",
              "      <td>0.000000</td>\n",
              "      <td>1.000000</td>\n",
              "      <td>0.000000</td>\n",
              "      <td>1.000000</td>\n",
              "      <td>1.000000</td>\n",
              "      <td>0.000000</td>\n",
              "    </tr>\n",
              "    <tr>\n",
              "      <th>75%</th>\n",
              "      <td>2.537571e-01</td>\n",
              "      <td>7.244193e-01</td>\n",
              "      <td>7.872846e-01</td>\n",
              "      <td>1.083913e+00</td>\n",
              "      <td>4.000255e-01</td>\n",
              "      <td>7.729069e-01</td>\n",
              "      <td>7.693597e-01</td>\n",
              "      <td>5.722990e-01</td>\n",
              "      <td>0.000000</td>\n",
              "      <td>0.000000</td>\n",
              "      <td>1.000000</td>\n",
              "      <td>0.000000</td>\n",
              "      <td>0.000000</td>\n",
              "      <td>0.000000</td>\n",
              "      <td>1.000000</td>\n",
              "      <td>1.000000</td>\n",
              "      <td>0.00000</td>\n",
              "      <td>0.000000</td>\n",
              "      <td>0.000000</td>\n",
              "      <td>1.000000</td>\n",
              "      <td>0.000000</td>\n",
              "      <td>1.000000</td>\n",
              "      <td>0.000000</td>\n",
              "      <td>0.000000</td>\n",
              "      <td>1.000000</td>\n",
              "      <td>0.000000</td>\n",
              "      <td>1.000000</td>\n",
              "      <td>1.000000</td>\n",
              "      <td>0.000000</td>\n",
              "    </tr>\n",
              "    <tr>\n",
              "      <th>max</th>\n",
              "      <td>5.744197e+00</td>\n",
              "      <td>2.359814e+00</td>\n",
              "      <td>2.586355e+00</td>\n",
              "      <td>1.083913e+00</td>\n",
              "      <td>1.687310e+00</td>\n",
              "      <td>1.617942e+00</td>\n",
              "      <td>2.335483e+00</td>\n",
              "      <td>2.218492e+00</td>\n",
              "      <td>1.000000</td>\n",
              "      <td>1.000000</td>\n",
              "      <td>1.000000</td>\n",
              "      <td>1.000000</td>\n",
              "      <td>1.000000</td>\n",
              "      <td>1.000000</td>\n",
              "      <td>1.000000</td>\n",
              "      <td>1.000000</td>\n",
              "      <td>1.00000</td>\n",
              "      <td>1.000000</td>\n",
              "      <td>1.000000</td>\n",
              "      <td>1.000000</td>\n",
              "      <td>1.000000</td>\n",
              "      <td>1.000000</td>\n",
              "      <td>1.000000</td>\n",
              "      <td>1.000000</td>\n",
              "      <td>1.000000</td>\n",
              "      <td>1.000000</td>\n",
              "      <td>1.000000</td>\n",
              "      <td>1.000000</td>\n",
              "      <td>1.000000</td>\n",
              "    </tr>\n",
              "  </tbody>\n",
              "</table>\n",
              "</div>"
            ],
            "text/plain": [
              "                Age        Height  ...        SMOKE          SCC\n",
              "count  2.069000e+03  2.069000e+03  ...  2069.000000  2069.000000\n",
              "mean   1.256138e-15  3.093286e-14  ...     0.884485     0.044466\n",
              "std    1.000000e+00  1.000000e+00  ...     0.319719     0.206178\n",
              "min   -1.628680e+00 -2.228309e+00  ...     0.000000     0.000000\n",
              "25%   -6.906284e-01 -7.910654e-01  ...     1.000000     0.000000\n",
              "50%   -2.380267e-01 -1.477711e-02  ...     1.000000     0.000000\n",
              "75%    2.537571e-01  7.244193e-01  ...     1.000000     0.000000\n",
              "max    5.744197e+00  2.359814e+00  ...     1.000000     1.000000\n",
              "\n",
              "[8 rows x 29 columns]"
            ]
          },
          "metadata": {
            "tags": []
          },
          "execution_count": 303
        }
      ]
    },
    {
      "cell_type": "code",
      "metadata": {
        "id": "2ic5qWnXOVdB",
        "colab_type": "code",
        "colab": {
          "base_uri": "https://localhost:8080/",
          "height": 222
        },
        "outputId": "b4473e60-365b-45b7-fdc0-58f3b1c8f954"
      },
      "source": [
        "normal_data.head()"
      ],
      "execution_count": 304,
      "outputs": [
        {
          "output_type": "execute_result",
          "data": {
            "text/html": [
              "<div>\n",
              "<style scoped>\n",
              "    .dataframe tbody tr th:only-of-type {\n",
              "        vertical-align: middle;\n",
              "    }\n",
              "\n",
              "    .dataframe tbody tr th {\n",
              "        vertical-align: top;\n",
              "    }\n",
              "\n",
              "    .dataframe thead th {\n",
              "        text-align: right;\n",
              "    }\n",
              "</style>\n",
              "<table border=\"1\" class=\"dataframe\">\n",
              "  <thead>\n",
              "    <tr style=\"text-align: right;\">\n",
              "      <th></th>\n",
              "      <th>Age</th>\n",
              "      <th>Height</th>\n",
              "      <th>Weight</th>\n",
              "      <th>FCVC</th>\n",
              "      <th>NCP</th>\n",
              "      <th>CH2O</th>\n",
              "      <th>FAF</th>\n",
              "      <th>TUE</th>\n",
              "      <th>CAEC_Always</th>\n",
              "      <th>CAEC_Frequently</th>\n",
              "      <th>CAEC_Sometimes</th>\n",
              "      <th>CAEC_no</th>\n",
              "      <th>CALC_Always</th>\n",
              "      <th>CALC_Frequently</th>\n",
              "      <th>CALC_Sometimes</th>\n",
              "      <th>CALC_no</th>\n",
              "      <th>MTRANS_Automobile</th>\n",
              "      <th>MTRANS_Bike</th>\n",
              "      <th>MTRANS_Motorbike</th>\n",
              "      <th>MTRANS_Public_Transportation</th>\n",
              "      <th>MTRANS_Walking</th>\n",
              "      <th>NObeyesdad_high</th>\n",
              "      <th>NObeyesdad_low</th>\n",
              "      <th>NObeyesdad_norm</th>\n",
              "      <th>Gender</th>\n",
              "      <th>family_history_with_overweight</th>\n",
              "      <th>FAVC</th>\n",
              "      <th>SMOKE</th>\n",
              "      <th>SCC</th>\n",
              "    </tr>\n",
              "  </thead>\n",
              "  <tbody>\n",
              "    <tr>\n",
              "      <th>0</th>\n",
              "      <td>-0.530592</td>\n",
              "      <td>-0.901623</td>\n",
              "      <td>-0.878023</td>\n",
              "      <td>-0.793629</td>\n",
              "      <td>0.400025</td>\n",
              "      <td>-0.016344</td>\n",
              "      <td>-1.187564</td>\n",
              "      <td>0.572299</td>\n",
              "      <td>0</td>\n",
              "      <td>0</td>\n",
              "      <td>1</td>\n",
              "      <td>0</td>\n",
              "      <td>0</td>\n",
              "      <td>0</td>\n",
              "      <td>0</td>\n",
              "      <td>1</td>\n",
              "      <td>0</td>\n",
              "      <td>0</td>\n",
              "      <td>0</td>\n",
              "      <td>1</td>\n",
              "      <td>0</td>\n",
              "      <td>0</td>\n",
              "      <td>0</td>\n",
              "      <td>1</td>\n",
              "      <td>0</td>\n",
              "      <td>0</td>\n",
              "      <td>0</td>\n",
              "      <td>0</td>\n",
              "      <td>0</td>\n",
              "    </tr>\n",
              "    <tr>\n",
              "      <th>1</th>\n",
              "      <td>-0.530592</td>\n",
              "      <td>-2.007194</td>\n",
              "      <td>-1.191281</td>\n",
              "      <td>1.083913</td>\n",
              "      <td>0.400025</td>\n",
              "      <td>1.617942</td>\n",
              "      <td>2.335483</td>\n",
              "      <td>-1.073894</td>\n",
              "      <td>0</td>\n",
              "      <td>0</td>\n",
              "      <td>1</td>\n",
              "      <td>0</td>\n",
              "      <td>0</td>\n",
              "      <td>0</td>\n",
              "      <td>1</td>\n",
              "      <td>0</td>\n",
              "      <td>0</td>\n",
              "      <td>0</td>\n",
              "      <td>0</td>\n",
              "      <td>1</td>\n",
              "      <td>0</td>\n",
              "      <td>0</td>\n",
              "      <td>0</td>\n",
              "      <td>1</td>\n",
              "      <td>0</td>\n",
              "      <td>0</td>\n",
              "      <td>0</td>\n",
              "      <td>0</td>\n",
              "      <td>1</td>\n",
              "    </tr>\n",
              "    <tr>\n",
              "      <th>2</th>\n",
              "      <td>-0.216852</td>\n",
              "      <td>1.088407</td>\n",
              "      <td>-0.368980</td>\n",
              "      <td>-0.793629</td>\n",
              "      <td>0.400025</td>\n",
              "      <td>-0.016344</td>\n",
              "      <td>1.161134</td>\n",
              "      <td>0.572299</td>\n",
              "      <td>0</td>\n",
              "      <td>0</td>\n",
              "      <td>1</td>\n",
              "      <td>0</td>\n",
              "      <td>0</td>\n",
              "      <td>1</td>\n",
              "      <td>0</td>\n",
              "      <td>0</td>\n",
              "      <td>0</td>\n",
              "      <td>0</td>\n",
              "      <td>0</td>\n",
              "      <td>1</td>\n",
              "      <td>0</td>\n",
              "      <td>0</td>\n",
              "      <td>0</td>\n",
              "      <td>1</td>\n",
              "      <td>1</td>\n",
              "      <td>0</td>\n",
              "      <td>0</td>\n",
              "      <td>0</td>\n",
              "      <td>0</td>\n",
              "    </tr>\n",
              "    <tr>\n",
              "      <th>3</th>\n",
              "      <td>0.410627</td>\n",
              "      <td>1.088407</td>\n",
              "      <td>0.022592</td>\n",
              "      <td>1.083913</td>\n",
              "      <td>0.400025</td>\n",
              "      <td>-0.016344</td>\n",
              "      <td>1.161134</td>\n",
              "      <td>-1.073894</td>\n",
              "      <td>0</td>\n",
              "      <td>0</td>\n",
              "      <td>1</td>\n",
              "      <td>0</td>\n",
              "      <td>0</td>\n",
              "      <td>1</td>\n",
              "      <td>0</td>\n",
              "      <td>0</td>\n",
              "      <td>0</td>\n",
              "      <td>0</td>\n",
              "      <td>0</td>\n",
              "      <td>0</td>\n",
              "      <td>1</td>\n",
              "      <td>1</td>\n",
              "      <td>0</td>\n",
              "      <td>0</td>\n",
              "      <td>1</td>\n",
              "      <td>1</td>\n",
              "      <td>0</td>\n",
              "      <td>0</td>\n",
              "      <td>0</td>\n",
              "    </tr>\n",
              "    <tr>\n",
              "      <th>4</th>\n",
              "      <td>-0.373722</td>\n",
              "      <td>0.867292</td>\n",
              "      <td>0.132232</td>\n",
              "      <td>-0.793629</td>\n",
              "      <td>-2.174544</td>\n",
              "      <td>-0.016344</td>\n",
              "      <td>-1.187564</td>\n",
              "      <td>-1.073894</td>\n",
              "      <td>0</td>\n",
              "      <td>0</td>\n",
              "      <td>1</td>\n",
              "      <td>0</td>\n",
              "      <td>0</td>\n",
              "      <td>0</td>\n",
              "      <td>1</td>\n",
              "      <td>0</td>\n",
              "      <td>0</td>\n",
              "      <td>0</td>\n",
              "      <td>0</td>\n",
              "      <td>1</td>\n",
              "      <td>0</td>\n",
              "      <td>1</td>\n",
              "      <td>0</td>\n",
              "      <td>0</td>\n",
              "      <td>1</td>\n",
              "      <td>1</td>\n",
              "      <td>0</td>\n",
              "      <td>0</td>\n",
              "      <td>0</td>\n",
              "    </tr>\n",
              "  </tbody>\n",
              "</table>\n",
              "</div>"
            ],
            "text/plain": [
              "        Age    Height    Weight  ...  FAVC  SMOKE  SCC\n",
              "0 -0.530592 -0.901623 -0.878023  ...     0      0    0\n",
              "1 -0.530592 -2.007194 -1.191281  ...     0      0    1\n",
              "2 -0.216852  1.088407 -0.368980  ...     0      0    0\n",
              "3  0.410627  1.088407  0.022592  ...     0      0    0\n",
              "4 -0.373722  0.867292  0.132232  ...     0      0    0\n",
              "\n",
              "[5 rows x 29 columns]"
            ]
          },
          "metadata": {
            "tags": []
          },
          "execution_count": 304
        }
      ]
    },
    {
      "cell_type": "markdown",
      "metadata": {
        "id": "VRFbVT7e5jB8",
        "colab_type": "text"
      },
      "source": [
        "# X и y"
      ]
    },
    {
      "cell_type": "code",
      "metadata": {
        "id": "MAs8hfEr5kzi",
        "colab_type": "code",
        "colab": {}
      },
      "source": [
        "X = normal_data.drop('NObeyesdad_high', axis = 1) # выбрасываем столбцы 'NObeyesdad_high', 'NObeyesdad_low', 'NObeyesdad_norm'\n",
        "y_high = normal_data['NObeyesdad_high']\n",
        "X = X.drop('NObeyesdad_low', axis = 1)\n",
        "y_low = normal_data['NObeyesdad_low']\n",
        "X = X.drop('NObeyesdad_norm', axis = 1)\n",
        "y_norm = normal_data['NObeyesdad_norm']\n",
        "\n",
        "feature_names = X.columns"
      ],
      "execution_count": 312,
      "outputs": []
    },
    {
      "cell_type": "code",
      "metadata": {
        "id": "w6MBS_XFM5ZJ",
        "colab_type": "code",
        "colab": {
          "base_uri": "https://localhost:8080/",
          "height": 35
        },
        "outputId": "5d15d132-e569-4680-c828-0c97dd460a2a"
      },
      "source": [
        "X = X.to_numpy()\n",
        "# y_high = np.array(y_high != 'NObeyesdad_high', dtype='int')\n",
        "y_high = y_high.to_numpy()\n",
        "y_norm = y_norm.to_numpy()\n",
        "y_low = y_low.to_numpy()"
      ],
      "execution_count": 313,
      "outputs": [
        {
          "output_type": "execute_result",
          "data": {
            "text/plain": [
              "array([0, 0, 0, ..., 1, 1, 1], dtype=uint8)"
            ]
          },
          "metadata": {
            "tags": []
          },
          "execution_count": 313
        }
      ]
    },
    {
      "cell_type": "code",
      "metadata": {
        "id": "wqni9UkSPJ5I",
        "colab_type": "code",
        "colab": {
          "base_uri": "https://localhost:8080/",
          "height": 35
        },
        "outputId": "9ebb9952-eeb3-4b3b-87d9-ce3da2e35271"
      },
      "source": [
        "# type(X)\n",
        "type(y_high)"
      ],
      "execution_count": 316,
      "outputs": [
        {
          "output_type": "execute_result",
          "data": {
            "text/plain": [
              "numpy.ndarray"
            ]
          },
          "metadata": {
            "tags": []
          },
          "execution_count": 316
        }
      ]
    },
    {
      "cell_type": "code",
      "metadata": {
        "id": "MXxZr8toPUEp",
        "colab_type": "code",
        "colab": {
          "base_uri": "https://localhost:8080/",
          "height": 35
        },
        "outputId": "e413e366-407a-49b5-c810-a05501b683d0"
      },
      "source": [
        "from sklearn.model_selection import train_test_split\n",
        "seed = 42\n",
        "X_train, X_test, y_train_low, y_test_low = train_test_split(X, y_low, test_size = 0.3, random_state = seed)\n",
        "X_train, X_test, y_train_norm, y_test_norm = train_test_split(X, y_norm, test_size = 0.3, random_state = seed)\n",
        "X_train, X_test, y_train_high, y_test_high = train_test_split(X, y_high, test_size = 0.3, random_state = seed)\n",
        "\n",
        "N_train, _ = X_train1.shape \n",
        "N_test,  _ = X_test.shape \n",
        "\n",
        "print(N_train, N_test)"
      ],
      "execution_count": 320,
      "outputs": [
        {
          "output_type": "stream",
          "text": [
            "1448 621\n"
          ],
          "name": "stdout"
        }
      ]
    },
    {
      "cell_type": "code",
      "metadata": {
        "id": "GRTxz1pjQrKD",
        "colab_type": "code",
        "colab": {
          "base_uri": "https://localhost:8080/",
          "height": 69
        },
        "outputId": "d7e3f4a7-fb91-4dec-87e7-2d490ceec7d3"
      },
      "source": [
        "from sklearn.neighbors import KNeighborsClassifier\n",
        "nn = 4\n",
        "knn_low = KNeighborsClassifier(n_neighbors = nn)\n",
        "knn_norm = KNeighborsClassifier(n_neighbors = nn)\n",
        "knn_high = KNeighborsClassifier(n_neighbors = nn)\n",
        "\n",
        "#knn.set_params(n_neighbors=10)\n",
        "knn_low.fit(X_train, y_train_low)\n",
        "knn_norm.fit(X_train, y_train_norm)\n",
        "knn_high.fit(X_train, y_train_high)\n",
        "\n",
        "y_test_predict_low = knn_low.predict(X_test)\n",
        "y_test_predict_norm = knn_norm.predict(X_test)\n",
        "y_test_predict_high = knn_high.predict(X_test)\n",
        "\n",
        "err_test_low  = np.mean(y_test_low  != y_test_predict_low)\n",
        "err_test_norm  = np.mean(y_test_norm  != y_test_predict_norm)\n",
        "err_test_high  = np.mean(y_test_high  != y_test_predict_high)\n",
        "\n",
        "print(err_test_low)\n",
        "print(err_test_norm)\n",
        "print(err_test_high)"
      ],
      "execution_count": 362,
      "outputs": [
        {
          "output_type": "stream",
          "text": [
            "0.01932367149758454\n",
            "0.13526570048309178\n",
            "0.09178743961352658\n"
          ],
          "name": "stdout"
        }
      ]
    },
    {
      "cell_type": "markdown",
      "metadata": {
        "id": "DA4zk4j_V275",
        "colab_type": "text"
      },
      "source": [
        "Сравнивая результаты для разных значений nn, находим, что\n",
        "\n",
        "\n",
        "1.   Наилучшая точность для high и low значений достигается при nn = 4: 0.019, 0.13, 0.09\n",
        "2.   При проверки norm - значения методом исключения high и low значений достигается гораздо большая точность, чем при непосредственной проверке на принадлежность к norm - классу.\n",
        "\n"
      ]
    },
    {
      "cell_type": "code",
      "metadata": {
        "id": "hvwAspAqQypI",
        "colab_type": "code",
        "colab": {
          "base_uri": "https://localhost:8080/",
          "height": 69
        },
        "outputId": "faeea88d-f1d8-4e03-b924-7b281f67c54e"
      },
      "source": [
        "y_test_predict_low = knn_low.predict(X_test)\n",
        "y_test_predict_norm = knn_norm.predict(X_test)\n",
        "y_test_predict_high = knn_high.predict(X_test)\n",
        "\n",
        "err_test_low  = np.mean(y_test_low  != y_test_predict_low)\n",
        "err_test_norm  = np.mean(y_test_norm  != y_test_predict_norm)\n",
        "err_test_high  = np.mean(y_test_high  != y_test_predict_high)\n",
        "\n",
        "print(err_test_low)\n",
        "print(err_test_norm)\n",
        "print(err_test_high)"
      ],
      "execution_count": 348,
      "outputs": [
        {
          "output_type": "stream",
          "text": [
            "0.024154589371980676\n",
            "0.12238325281803543\n",
            "0.09339774557165861\n"
          ],
          "name": "stdout"
        }
      ]
    }
  ]
}